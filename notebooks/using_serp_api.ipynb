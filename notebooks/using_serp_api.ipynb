{
 "cells": [
  {
   "cell_type": "markdown",
   "id": "48346554",
   "metadata": {},
   "source": [
    "Notebook created by [Nikolaos Tsopanidis](https://github.com/tSopermon)\n",
    "# Using **SerpApi** to fetch events' info"
   ]
  },
  {
   "cell_type": "markdown",
   "id": "9387d81f",
   "metadata": {},
   "source": [
    "## 1. Installing Python package to use SerpApi to scrape search results from Google"
   ]
  },
  {
   "cell_type": "code",
   "execution_count": 2,
   "id": "9a1d36d8",
   "metadata": {},
   "outputs": [
    {
     "name": "stdout",
     "output_type": "stream",
     "text": [
      "Requirement already satisfied: google-search-results in /home/tsopermon/.pyenv/ds/lib/python3.10/site-packages (2.4.2)\n",
      "Requirement already satisfied: requests in /home/tsopermon/.pyenv/ds/lib/python3.10/site-packages (from google-search-results) (2.32.3)\n",
      "Requirement already satisfied: charset-normalizer<4,>=2 in /home/tsopermon/.pyenv/ds/lib/python3.10/site-packages (from requests->google-search-results) (3.4.1)\n",
      "Requirement already satisfied: idna<4,>=2.5 in /home/tsopermon/.pyenv/ds/lib/python3.10/site-packages (from requests->google-search-results) (3.10)\n",
      "Requirement already satisfied: urllib3<3,>=1.21.1 in /home/tsopermon/.pyenv/ds/lib/python3.10/site-packages (from requests->google-search-results) (2.3.0)\n",
      "Requirement already satisfied: certifi>=2017.4.17 in /home/tsopermon/.pyenv/ds/lib/python3.10/site-packages (from requests->google-search-results) (2025.1.31)\n",
      "Note: you may need to restart the kernel to use updated packages.\n"
     ]
    }
   ],
   "source": [
    "%pip install google-search-results"
   ]
  },
  {
   "cell_type": "markdown",
   "id": "084282b6",
   "metadata": {},
   "source": [
    "## 2. Import library"
   ]
  },
  {
   "cell_type": "code",
   "execution_count": 3,
   "id": "4071f6d8",
   "metadata": {},
   "outputs": [],
   "source": [
    "from serpapi import GoogleSearch\n",
    "import os"
   ]
  },
  {
   "cell_type": "markdown",
   "id": "1878a4d0",
   "metadata": {},
   "source": [
    "## 3. Creating function to search for concerts of a given artist using the SerpAPI"
   ]
  },
  {
   "cell_type": "code",
   "execution_count": 4,
   "id": "c43a4972",
   "metadata": {},
   "outputs": [],
   "source": [
    "def search_concerts(artist_name):\n",
    "    \"\"\"\n",
    "    Args:\n",
    "        artist_name (str): The name of the artist to search for.\n",
    "    Returns:\n",
    "        dict: A dictionary containing the search results.\n",
    "    \"\"\"\n",
    "    params = {\n",
    "      \"api_key\": \"e943f5221ef3d91e9eecf2076e110ed0a2615e29ae8919c1d73ad6b24b033534\",\n",
    "      \"engine\": \"google_events\",\n",
    "      \"q\": {artist_name},\n",
    "      \"hl\": \"en\",\n",
    "      \"gl\": \"us\",\n",
    "      \"htichips\": \"concerts\"\n",
    "    }\n",
    "    search = GoogleSearch(params)\n",
    "    results = search.get_dict()\n",
    "\n",
    "    return results"
   ]
  },
  {
   "cell_type": "markdown",
   "id": "ca7251a2",
   "metadata": {},
   "source": [
    "## 4. Using the function to fetch info about Sabrina Carpenter's upcoming concerts"
   ]
  },
  {
   "cell_type": "code",
   "execution_count": 5,
   "id": "410de8b5",
   "metadata": {},
   "outputs": [],
   "source": [
    "# Usage example\n",
    "concerts = search_concerts(\"Sabrina Carpenter\")"
   ]
  },
  {
   "cell_type": "markdown",
   "id": "3b0865ba",
   "metadata": {},
   "source": [
    "### Extracting event list from the dictionary and dropping the last two columns as we don't need them for this project"
   ]
  },
  {
   "cell_type": "code",
   "execution_count": 6,
   "id": "49742676",
   "metadata": {},
   "outputs": [],
   "source": [
    "events = concerts.get(\"events_results\", [])\n",
    "# drop 2 last columns from list\n",
    "for event in events:\n",
    "    event.pop(\"thumbnail\", None)\n",
    "    event.pop(\"image\", None)"
   ]
  },
  {
   "cell_type": "markdown",
   "id": "987f1e23",
   "metadata": {},
   "source": [
    "### Creating a text file containing all the event information\n",
    " * event title\n",
    " * start date\n",
    " * address\n",
    " * link of the event\n",
    " * location of the event on Google Maps\n",
    " * description\n",
    " * tickets information\n",
    " * venue"
   ]
  },
  {
   "cell_type": "code",
   "execution_count": 7,
   "id": "35cd770e",
   "metadata": {},
   "outputs": [],
   "source": [
    "with open('all_events.txt', 'w') as f:\n",
    "    for i, event in enumerate(events):\n",
    "        for key, value in event.items():\n",
    "            f.write(f\"{value}\\n\")\n",
    "        f.write(\"\\n\\n\")"
   ]
  },
  {
   "cell_type": "markdown",
   "id": "bb646e5b",
   "metadata": {},
   "source": [
    "### Display the file's content"
   ]
  },
  {
   "cell_type": "code",
   "execution_count": 8,
   "id": "bcc5c705",
   "metadata": {},
   "outputs": [
    {
     "name": "stdout",
     "output_type": "stream",
     "text": [
      "Please Please Please - Sabrina Carpenter Dance Party\n",
      "{'start_date': 'May 2', 'when': 'Fri, May 2, 7:00 – 8:30 PM'}\n",
      "['Tellus360, 24 E King St', 'Lancaster, PA']\n",
      "https://lancasteronline.com/visitlancaster/calendar/?_evDiscoveryPath=/event/106593383n-party-iconic\n",
      "{'image': 'https://www.google.com/maps/vt/data=-7xcljzGsuQ1FdR8nEbx5LvPJ_h64gsE-H_oL1NZgYql_KNpZHx6_fggJXWdbJIKTu_VIMOk5P9V5EDnz7S_hZYUnleDXvmCut9twGkKPOEGfxg-Qis', 'link': 'https://www.google.com/maps/place//data=!4m2!3m1!1s0x89c624edeab534c5:0x61e8898e9ba499e9?sa=X&ved=2ahUKEwjNiIHSs-aMAxUN78kDHZREIksQ9eIBegQIAhAA&hl=en&gl=us', 'serpapi_link': 'https://serpapi.com/search.json?data=%214m2%213m1%211s0x89c624edeab534c5%3A0x61e8898e9ba499e9&engine=google_maps&gl=us&google_domain=google.com&hl=en&q=Sabrina+Carpenter&type=place'}\n",
      "PLEASE PLEASE PLEASE PARTY Iconic parties celebrating iconic artists.\n",
      "[{'source': 'Axs.com', 'link': 'https://www.axs.com/au/events/924165/please-please-please-sabrina-carpenter-dance-party-21-event-tickets', 'link_type': 'tickets'}, {'source': 'Ticketsqueeze.com', 'link': 'https://www.ticketsqueeze.com/tickets/7036873/please-please-please-party-the-sabrina-carpenter-dance-party-2025-05-02-19-00-00-tellus-360', 'link_type': 'tickets'}, {'source': 'Vividseats.com', 'link': 'https://www.vividseats.com/please-please-please---sabrina-carpenter-dance-party-tickets-lancaster-tellus360-5-2-2025--concerts-pop/production/5628536', 'link_type': 'tickets'}, {'source': 'Live Nation', 'link': 'https://www.livenation.com/event/vv17FZbJGknDWfEe/party-iconic-presents-please-please-please-party', 'link_type': 'more info'}, {'source': 'ABC27', 'link': 'https://www.abc27.com/community-calendar/?_escaped_fragment_=/show/?ser=Shop%2520N%2520Save#!/details/party-iconic-presents-please-please-please-party/15312598/2025-05-02T19', 'link_type': 'more info'}]\n",
      "{'name': 'Tellus360', 'rating': 4.4, 'reviews': 2230, 'link': 'https://www.google.com/search?sca_esv=71363a2e3bb1c06b&hl=en&gl=us&q=Tellus360&ludocid=7055040061865499113&ibp=gwp%3B0,7'}\n",
      "\n",
      "\n",
      "Taste: Sabrina Carpenter Club Night\n",
      "{'start_date': 'Apr 25', 'when': 'Fri, Apr 25, 10 PM – Sat, Apr 26, 2 AM GMT+1'}\n",
      "['Queen of Hoxton, 1 Curtain Rd', 'London, United Kingdom']\n",
      "https://www.eventbrite.co.uk/e/taste-sabrina-carpenter-club-night-tickets-1319037038289\n",
      "{'image': 'https://www.google.com/maps/vt/data=9JNOdM0ng71SbDgvlZ5s05EmzfpZiQqDPtvjQWslkOc9R7EGB-oFiWHN0UPriqbVpuFifk1evVjOCNKkjWFyTMlNQPC19VmU5iwxs2O5sYSJ7PWcCsI', 'link': 'https://www.google.com/maps/place//data=!4m2!3m1!1s0x48761cb1cf4211b9:0x38d5358623731b26?sa=X&ved=2ahUKEwjNiIHSs-aMAxUN78kDHZREIksQ9eIBegQIChAA&hl=en&gl=us', 'serpapi_link': 'https://serpapi.com/search.json?data=%214m2%213m1%211s0x48761cb1cf4211b9%3A0x38d5358623731b26&engine=google_maps&gl=us&google_domain=google.com&hl=en&q=Sabrina+Carpenter&type=place'}\n",
      "Get ready for a night of pure pop bliss at Taste – the ultimate Sabrina Carpenter club night! 🌟 Join us on Friday, March 14th at Queen of Hoxton for an night filled with all of Sabrina’s...\n",
      "[{'source': 'Eventbrite.co.uk', 'link': 'https://www.eventbrite.co.uk/e/taste-sabrina-carpenter-club-night-tickets-1319037038289', 'link_type': 'tickets'}]\n",
      "{'name': 'Queen of Hoxton', 'rating': 3.9, 'reviews': 3568, 'link': 'https://www.google.com/search?sca_esv=71363a2e3bb1c06b&hl=en&gl=us&q=Queen+of+Hoxton&ludocid=4095238286399970086&ibp=gwp%3B0,7'}\n",
      "\n",
      "\n",
      "Sabrina Carpenter\n",
      "{'start_date': 'Jul 5', 'when': 'Sat, Jul 5, 2 – 5 PM GMT+1'}\n",
      "['Hyde Park', 'London, United Kingdom']\n",
      "https://www.keithprowse.co.uk/hyde-park/sabrina-carpenter-at-bst-hyde-park/?facilityName=Great+Oak+Roof+Garden\n",
      "{'image': 'https://www.google.com/maps/vt/data=yfuBcTNPWBL4UISHc0fZm4uGt1e2fLHgVqNlyvOvs6vGCqOS1yfb3coY2Sm_4j8MpkOMxDr95utxxd1zuz1FddEOBbQawdBmczTYPRTYC6u1DrQnsQM', 'link': 'https://www.google.com/maps/place//data=!4m2!3m1!1s0x4876054929181a85:0xd1af6c4f49b4bd0c?sa=X&ved=2ahUKEwjNiIHSs-aMAxUN78kDHZREIksQ9eIBegQIEhAA&hl=en&gl=us', 'serpapi_link': 'https://serpapi.com/search.json?data=%214m2%213m1%211s0x4876054929181a85%3A0xd1af6c4f49b4bd0c&engine=google_maps&gl=us&google_domain=google.com&hl=en&q=Sabrina+Carpenter&type=place'}\n",
      "Sabrina Carpenter - the 2-time Grammy award-winning 'Espresso' singing sensation, and former Disney actress - was recently announced as TikTok's number one artist for 2024! A VIP experience on...\n",
      "[{'source': 'Livenation.co.uk', 'link': 'https://www.livenation.co.uk/event/sabrina-carpenter-london-tickets-edp1556361', 'link_type': 'tickets'}, {'source': 'Showpass.com', 'link': 'https://www.showpass.com/sabrina-carpenter-affp3/', 'link_type': 'tickets'}, {'source': 'Bandsintown.com', 'link': 'https://www.bandsintown.com/e/1033727954?app_id=ggl_feed&came_from=289&utm_medium=web&utm_source=ggl_feed&utm_campaign=event', 'link_type': 'tickets'}, {'source': 'Gametime.co', 'link': 'https://gametime.co/music/sabrina-carpenter-tickets/7-5-2025-london--hyde-park/events/67b5efd497f0259649dd21ae', 'link_type': 'tickets'}, {'source': 'Keith Prowse', 'link': 'https://www.keithprowse.co.uk/hyde-park/sabrina-carpenter-at-bst-hyde-park/?facilityName=Great+Oak+Roof+Garden', 'link_type': 'more info'}]\n",
      "{'name': 'Hyde Park', 'rating': 4.7, 'reviews': 133617, 'link': 'https://www.google.com/search?sca_esv=71363a2e3bb1c06b&hl=en&gl=us&q=Hyde+Park&ludocid=15109414362646101260&ibp=gwp%3B0,7'}\n",
      "\n",
      "\n",
      "The Sabrina Carpenter Experience\n",
      "{'start_date': 'Apr 27', 'when': 'Sun, Apr 27, 3:30 PM GMT+1'}\n",
      "['Patti Pavilion, Swansea, Victoria park, Mumbles Rd', 'Swansea, United Kingdom']\n",
      "https://allevents.in/swansea/the-sabrina-carpenter-experience/200027524489038\n",
      "{'image': 'https://www.google.com/maps/vt/data=BRTnQdl6X4rRUjysADPU9pOwaKqYzWIihSO7Y0JqzGDLs9_bOr7KVEywjk3Xk5rZIBMBt9SHhE4oJy-VHihqXrfj5HEFoHdfYjBkFWRxjTFKxgGEhBo', 'link': 'https://www.google.com/maps/place//data=!4m2!3m1!1s0x486e8ad4100d68e1:0x71b595a9690519b3?sa=X&ved=2ahUKEwjNiIHSs-aMAxUN78kDHZREIksQ9eIBegQIGhAA&hl=en&gl=us', 'serpapi_link': 'https://serpapi.com/search.json?data=%214m2%213m1%211s0x486e8ad4100d68e1%3A0x71b595a9690519b3&engine=google_maps&gl=us&google_domain=google.com&hl=en&q=Sabrina+Carpenter&type=place'}\n",
      "*** NEW SHOW *** THE SABRINA CARPENTER EXPERIENCE! The Sabrina Carpenter Experience by Katy McKenna is a family friendly show, described as 'one big sleepover party'. Featuring all the hits...\n",
      "[{'source': 'Gigantic.com', 'link': 'https://www.gigantic.com/the-sabrina-carpenter-experience-tickets/swansea-patti-pavilion/2025-04-27-15-30', 'link_type': 'tickets'}, {'source': 'Ents24.com', 'link': 'https://www.ents24.com/swansea-events/patti-pavilion/sabrina-carpenter-experience/7221795', 'link_type': 'tickets'}, {'source': 'Planet Rock Tickets', 'link': 'https://www.planetrocktickets.co.uk/event/the-sabrina-carpenter-experience/', 'link_type': 'more info'}, {'source': 'Absolute Radio Ticket Store', 'link': 'https://www.absoluteradiotickets.co.uk/event/the-sabrina-carpenter-experience/', 'link_type': 'more info'}, {'source': 'AllEvents', 'link': 'https://allevents.in/swansea/the-sabrina-carpenter-experience/200027524489038', 'link_type': 'more info'}]\n",
      "{'name': 'Patti Pavilion, Swansea', 'rating': 4.3, 'reviews': 272, 'link': 'https://www.google.com/search?sca_esv=71363a2e3bb1c06b&hl=en&gl=us&q=Patti+Pavilion,+Swansea&ludocid=8193619651914439091&ibp=gwp%3B0,7'}\n",
      "\n",
      "\n",
      "Taylor NI live at The Barn FAMILY FRIENDLY plus Sabrina Carpenter Tribute\n",
      "{'start_date': 'Apr 21', 'when': 'Mon, Apr 21, 4 – 7 PM GMT+1'}\n",
      "['Kellys Complex Portrush, Bushmills Rd', 'Portrush, United Kingdom']\n",
      "https://www.eventbrite.co.uk/e/taylor-ni-live-at-the-barn-family-friendly-plus-sabrina-carpenter-tribute-tickets-1245986492139\n",
      "{'image': 'https://www.google.com/maps/vt/data=0_aqxRm23vi1kpp-zwuqpzIJIqK9F747hySA7il6XWJGPBRpiwfAd21KIIeq-pcgnwS4gSI39RCdVgBZqGJPa-tLYkVhf9DSbiJLahIKhwMVePQqQyw', 'link': 'https://www.google.com/maps/place//data=!4m2!3m1!1s0x486025b8662b2751:0x1cd02eca4e8aa76a?sa=X&ved=2ahUKEwjNiIHSs-aMAxUN78kDHZREIksQ9eIBegQIIhAA&hl=en&gl=us', 'serpapi_link': 'https://serpapi.com/search.json?data=%214m2%213m1%211s0x486025b8662b2751%3A0x1cd02eca4e8aa76a&engine=google_maps&gl=us&google_domain=google.com&hl=en&q=Sabrina+Carpenter&type=place'}\n",
      "She performed last year (Taylor Made) and is back with a new show, and a Sabrina Carpenter tribute to sweeten the deal.\n",
      "[{'source': 'Eventbrite.co.uk', 'link': 'https://www.eventbrite.co.uk/e/taylor-ni-live-at-the-barn-family-friendly-plus-sabrina-carpenter-tribute-tickets-1245986492139', 'link_type': 'tickets'}]\n",
      "{'name': 'Kellys Complex Portrush', 'rating': 3.9, 'reviews': 49, 'link': 'https://www.google.com/search?sca_esv=71363a2e3bb1c06b&hl=en&gl=us&q=Kellys+Complex+Portrush&ludocid=2076210874653779818&ibp=gwp%3B0,7'}\n",
      "\n",
      "\n",
      "Please Please Please Party: The Sabrina Carpenter Dance Party\n",
      "{'start_date': 'May 2', 'when': 'Fri, May 2, 8 – 11 PM'}\n",
      "['The Drake, 44 N Pleasant St', 'Amherst, MA']\n",
      "https://www.tixr.com/groups/thedrake/events/please-please-please-party-the-sabrina-carpenter-dance-party-139274\n",
      "{'image': 'https://www.google.com/maps/vt/data=lESInSubCCtybT8UMCO3zuuCl5bIqUy7y-l5EANs5bnWCVITnW9DWTKK86UWGArrcnYTOhQNd73ou53rB3JG303oNukboOwou4Xp5I5l2-wCoW_l6P0', 'link': 'https://www.google.com/maps/place//data=!4m2!3m1!1s0x89e6cd53985ffbbb:0xf762b76147165d02?sa=X&ved=2ahUKEwjNiIHSs-aMAxUN78kDHZREIksQ9eIBegQIKhAA&hl=en&gl=us', 'serpapi_link': 'https://serpapi.com/search.json?data=%214m2%213m1%211s0x89e6cd53985ffbbb%3A0xf762b76147165d02&engine=google_maps&gl=us&google_domain=google.com&hl=en&q=Sabrina+Carpenter&type=place'}\n",
      "Oh, we leave quite an impression–the best party to be exact 💋We’ll be dancing all night long to your favorite pop girlies, including\n",
      "[{'source': 'Tixr.com', 'link': 'https://www.tixr.com/groups/thedrake/events/please-please-please-party-the-sabrina-carpenter-dance-party-139274', 'link_type': 'tickets'}]\n",
      "{'name': 'The Drake', 'rating': 4.6, 'reviews': 88, 'link': 'https://www.google.com/search?sca_esv=71363a2e3bb1c06b&hl=en&gl=us&q=The+Drake&ludocid=17826011903518203138&ibp=gwp%3B0,7'}\n",
      "\n",
      "\n",
      "Bitter Sweet - Music of Sabrina Carpenter and Olivia Rodrigo\n",
      "{'start_date': 'Apr 21', 'when': 'Mon, Apr 21, 9 PM – Tue, Apr 22, 12 AM GMT+1'}\n",
      "['TF Royal Hotel & Theatre, Old Westport Road', 'Castlebar, County Mayo, Ireland']\n",
      "https://www.datathistle.com/event/2617713-sweet-and-sour-the-ultimate-tribute-to-sabrina-carpenter-and-olivia-rodrigo/112085-royal-theatre-and-event-centre-castlebar/\n",
      "{'image': 'https://www.google.com/maps/vt/data=abouvb5jXXLMlVxxcuWwrltjgFfmAa0knVNbXxJNvz2ypnnOcWHCyEsoK5ccI1SeAxnddo1w572qlBaJ2-5W3UVXb5qrV-GJNUowLcyIl7OcpKqUT9Y', 'link': 'https://www.google.com/maps/place//data=!4m2!3m1!1s0x48595d84220b5eb9:0x941a122ee88e9e43?sa=X&ved=2ahUKEwjNiIHSs-aMAxUN78kDHZREIksQ9eIBegQIMhAA&hl=en&gl=us', 'serpapi_link': 'https://serpapi.com/search.json?data=%214m2%213m1%211s0x48595d84220b5eb9%3A0x941a122ee88e9e43&engine=google_maps&gl=us&google_domain=google.com&hl=en&q=Sabrina+Carpenter&type=place'}\n",
      "Get ready for an electrifying night of pop anthems, heartbreak hits, and fierce rival vibes at Sweet and Sour–the ultimate Olivia Rodrigo vs. Sabrina Carpenter tribute show! Featuring a powerhouse...\n",
      "[{'source': 'Theatresonline.com', 'link': 'https://www.theatresonline.com/shows/tf-royal/bitter-sweet-music-of-sabrina-carpenter-and-olivia-rodrigo', 'link_type': 'tickets'}, {'source': 'Evvnt', 'link': 'https://touchlocal.evvnt.com/?_evDiscoveryPath=/event/37219204t-bitter-sweet-music-of-sabrina-carpenter-and-olivia-rodrigo', 'link_type': 'more info'}, {'source': 'Data Thistle', 'link': 'https://www.datathistle.com/event/2602730-bitter-sweet-music-of-sabrina-carpenter-and-olivia-rodrigo/', 'link_type': 'more info'}, {'source': 'TicketSwap', 'link': 'https://www.ticketswap.com/event/bitter-sweet-music-of-sabrina-carpenter-and-olivia-rodrigo/1a7a26a4-8e71-47ae-8f93-54308d391445', 'link_type': 'more info'}, {'source': 'AllEvents', 'link': 'https://allevents.in/castlebar/bitter-sweet-music-of-sabrina-carpenter-and-olivia-rodrigo/200027739063537', 'link_type': 'more info'}]\n",
      "{'name': 'TF Royal Hotel & Theatre', 'rating': 4.3, 'reviews': 1114, 'link': 'https://www.google.com/search?sca_esv=71363a2e3bb1c06b&hl=en&gl=us&q=TF+Royal+Hotel+%26+Theatre&ludocid=10671862259687267907&ibp=gwp%3B0,7'}\n",
      "\n",
      "\n",
      "Sabrina Carpenter\n",
      "{'start_date': 'May 2', 'when': 'Fri, May 2'}\n",
      "['DerbyBox, 350 Missouri Ave #200', 'Jeffersonville, IN']\n",
      "https://www.derbybox.com/ListEventTickets.php?eventid=2707318&x=Sabrina%20Carpenter&venue=ING%20Arena&date=2025-03-22T19:00:00Z&city=Laeken,%20Bruxelles,%20&venueid=48672&configid=61873\n",
      "{'image': 'https://www.google.com/maps/vt/data=emcAulL9f_-9-ZhhrIXkbbtJAgBi7cPusfDbnlpTbora3BSyvNu9_ShW9oUnW2I6HhudKBxNa_Zs9AmRb0otbSJb4oGYK-QLLdLmXDEz39k8COk4gtc', 'link': 'https://www.google.com/maps/place//data=!4m2!3m1!1s0x88690d533468bef3:0xad21d1f4a719c21b?sa=X&ved=2ahUKEwjNiIHSs-aMAxUN78kDHZREIksQ9eIBegQIOhAA&hl=en&gl=us', 'serpapi_link': 'https://serpapi.com/search.json?data=%214m2%213m1%211s0x88690d533468bef3%3A0xad21d1f4a719c21b&engine=google_maps&gl=us&google_domain=google.com&hl=en&q=Sabrina+Carpenter&type=place'}\n",
      "[{'source': 'DerbyBox.com', 'link': 'https://www.derbybox.com/ListEventTickets.php?eventid=2707318&x=Sabrina%20Carpenter&venue=ING%20Arena&date=2025-03-22T19:00:00Z&city=Laeken,%20Bruxelles,%20&venueid=48672&configid=61873', 'link_type': 'more info'}]\n",
      "{'name': 'DerbyBox', 'rating': 2.9, 'reviews': 11, 'link': 'https://www.google.com/search?sca_esv=71363a2e3bb1c06b&hl=en&gl=us&q=DerbyBox&ludocid=12475483291498693147&ibp=gwp%3B0,7'}\n",
      "\n",
      "\n",
      "beabadoobee\n",
      "{'start_date': 'Jul 5', 'when': 'Sat, Jul 5, 2:00 – 5:30 PM GMT+1'}\n",
      "['Hyde Park', 'London, United Kingdom']\n",
      "https://www.deezer.com/en/artist/1176900\n",
      "{'image': 'https://www.google.com/maps/vt/data=yfuBcTNPWBL4UISHc0fZm4uGt1e2fLHgVqNlyvOvs6vGCqOS1yfb3coY2Sm_4j8MpkOMxDr95utxxd1zuz1FddEOBbQawdBmczTYPRTYC6u1DrQnsQM', 'link': 'https://www.google.com/maps/place//data=!4m2!3m1!1s0x4876054929181a85:0xd1af6c4f49b4bd0c?sa=X&ved=2ahUKEwjNiIHSs-aMAxUN78kDHZREIksQ9eIBegQIQhAA&hl=en&gl=us', 'serpapi_link': 'https://serpapi.com/search.json?data=%214m2%213m1%211s0x4876054929181a85%3A0xd1af6c4f49b4bd0c&engine=google_maps&gl=us&google_domain=google.com&hl=en&q=Sabrina+Carpenter&type=place'}\n",
      "Sabrina Carpenter established herself as a teen actress before launching a parallel career as a platinum-selling pop singer. She was born on May 11, 1999, in Quakertown, Pennsylvania. After making...\n",
      "[{'source': 'Spotify.com', 'link': 'https://open.spotify.com/concert/5qfQWhNbQy20NNAPbUtkrT', 'link_type': 'tickets'}, {'source': 'Bst-hydepark.com', 'link': 'https://www.bst-hydepark.com/events/sabrina-carpenter-sat-5-july/', 'link_type': 'tickets'}, {'source': 'Allgigs.co.uk', 'link': 'https://www.allgigs.co.uk/view/event/1460417/BST_Hyde_Park_Sabrina_Carpenter_Hyde_Park_Knightsbridge_5_July_2025.html', 'link_type': 'tickets'}, {'source': 'Tm7559.net', 'link': 'https://ticketmaster-uk.tm7559.net/c/5639388/431519/7559?u=https%3A%2F%2Fwww.ticketmaster.co.uk%2Famerican-express-presents-bst-hyde-park-london-05-07-2025%2Fevent%2F37006176A45B254E', 'link_type': 'tickets'}, {'source': 'Shazam', 'link': 'https://www.shazam.com/event/08b4e6e0-34a9-4c8d-8cdf-444d3901ebdf', 'link_type': 'more info'}]\n",
      "{'name': 'Hyde Park', 'rating': 4.7, 'reviews': 133617, 'link': 'https://www.google.com/search?sca_esv=71363a2e3bb1c06b&hl=en&gl=us&q=Hyde+Park&ludocid=15109414362646101260&ibp=gwp%3B0,7'}\n",
      "\n",
      "\n",
      "PowerPOP Girls: A Chappell Roan, Charli XCX & Sabrina Carpenter Dance Party\n",
      "{'start_date': 'Apr 25', 'when': 'Fri, Apr 25, 9 PM – Sat, Apr 26, 12 AM CDT'}\n",
      "['First Avenue, 701 N 1st Ave', 'Minneapolis, MN']\n",
      "https://www.startribune.com/things-to-do/events-calendar/show/details/flip-phone-the-powerpop-girls/15298364/2025-04-25T21\n",
      "{'image': 'https://www.google.com/maps/vt/data=NjExInftZELqmB9OSYVxeNFaM9m5yGGnsE0JxCjGOFZCEVMx3i7XFMfdvnZMDMDzpvfYABNalWCfLDEB97LjQsvihN65EA34xwjlF_WOn2G5boMliPY', 'link': 'https://www.google.com/maps/place//data=!4m2!3m1!1s0x52b332917cb8a83f:0xadb920377f253346?sa=X&ved=2ahUKEwjNiIHSs-aMAxUN78kDHZREIksQ9eIBegQIShAA&hl=en&gl=us', 'serpapi_link': 'https://serpapi.com/search.json?data=%214m2%213m1%211s0x52b332917cb8a83f%3A0xadb920377f253346&engine=google_maps&gl=us&google_domain=google.com&hl=en&q=Sabrina+Carpenter&type=place'}\n",
      "The Powerpop Girls: Sabrina + Chappell + Charli featuring Sasha Cassadine, Aranya, Ken Doll, Priscilla Es Yuicy, Frozaen Pissás and Iconica with music by DJ Aquaria (RuPaul’s Drag Race), DJ Izzie...\n",
      "[{'source': 'Axs.com', 'link': 'https://www.axs.com/nz/events/861293/the-powerpop-girls-sabrina-chappell-charli-tickets', 'link_type': 'tickets'}, {'source': 'Star Tribune', 'link': 'https://www.startribune.com/things-to-do/events-calendar/show/details/flip-phone-the-powerpop-girls/15298364/2025-04-25T21', 'link_type': 'more info'}, {'source': 'KARE 11', 'link': 'https://www.kare11.com/events?_evDiscoveryPath=/event/861293s-the-powerpop-girls-sabrina-chappell-charli', 'link_type': 'more info'}, {'source': 'myvillager.com', 'link': 'https://www.myvillager.com/local-events/?_evDiscoveryPath=/event/861293s-the-powerpop-girls-sabrina-chappell-charli', 'link_type': 'more info'}, {'source': 'Press Publications', 'link': 'https://www.presspubs.com/local-events/?_evDiscoveryPath=/event/861293s-the-powerpop-girls-sabrina-chappell-charli', 'link_type': 'more info'}]\n",
      "{'name': 'First Avenue', 'rating': 4.7, 'reviews': 4559, 'link': 'https://www.google.com/search?sca_esv=71363a2e3bb1c06b&hl=en&gl=us&q=First+Avenue&ludocid=12518072061981438790&ibp=gwp%3B0,7'}\n",
      "\n",
      "\n",
      "\n"
     ]
    }
   ],
   "source": [
    "with open('all_events.txt', 'r') as f:\n",
    "    content = f.read()\n",
    "    print(content)"
   ]
  },
  {
   "cell_type": "code",
   "execution_count": 9,
   "id": "d622ea30",
   "metadata": {},
   "outputs": [
    {
     "name": "stdout",
     "output_type": "stream",
     "text": [
      "Number of events found: 10\n"
     ]
    }
   ],
   "source": [
    "print(f\"Number of events found: {len(events)}\")\n"
   ]
  },
  {
   "cell_type": "markdown",
   "id": "f1a9f8fb",
   "metadata": {},
   "source": [
    "## 5. Function "
   ]
  },
  {
   "cell_type": "code",
   "execution_count": 10,
   "id": "d2cb83c3",
   "metadata": {},
   "outputs": [],
   "source": [
    "from serpapi import GoogleSearch\n",
    "\n",
    "def get_events_for_artist(artist_name, api_key):\n",
    "    \"\"\"\n",
    "    Args:\n",
    "        artist_name (str): The name of the artist to search for.\n",
    "        api_key (str): Your SerpAPI key.\n",
    "    Returns:\n",
    "        list: A list of events for the specified artist.\n",
    "    \"\"\"\n",
    "    params = {\n",
    "        \"api_key\": {api_key},\n",
    "        \"engine\": \"google_events\",\n",
    "        \"q\": {artist_name},\n",
    "        \"hl\": \"en\",\n",
    "        \"gl\": \"us\",\n",
    "        \"htichips\": \"concerts\"\n",
    "    }\n",
    "    search = GoogleSearch(params)\n",
    "    results = search.get_dict()\n",
    "    events = results.get(\"events_results\", [])\n",
    "    # drop 2 last columns from list\n",
    "    for event in events:\n",
    "        event.pop(\"thumbnail\", None)\n",
    "        event.pop(\"image\", None)\n",
    "\n",
    "    return events"
   ]
  },
  {
   "cell_type": "code",
   "execution_count": 11,
   "id": "7e4246cc",
   "metadata": {},
   "outputs": [
    {
     "name": "stdout",
     "output_type": "stream",
     "text": [
      "title: DJ Snoopadelic\n",
      "date: {'start_date': 'May 25', 'when': 'Sun, May 25, 12 – 4 PM'}\n",
      "address: ['AYU Dayclub, 3000 S Las Vegas Blvd', 'Las Vegas, NV']\n",
      "link: https://open.spotify.com/concert/476K6rFs72bYGIezC1WqCA\n",
      "event_location_map: {'image': 'https://www.google.com/maps/vt/data=h5GDgs0Tod3KjJAABR9ZE12ijKJNbQUQbsdoSD4NaC9gdrz-fWfh4ZWakJ9q8pEKDM1r4MLe4Ffw2Y8Z8wFzEhP50qWvisJbkexrfeP2v7krjnmJz-8', 'link': 'https://www.google.com/maps/place//data=!4m2!3m1!1s0x80c8c5451087ad2b:0x407d565c7e55d019?sa=X&ved=2ahUKEwiQgNrsruaMAxULGFkFHTAjDPMQ9eIBegQIAhAA&hl=en&gl=us', 'serpapi_link': 'https://serpapi.com/search.json?data=%214m2%213m1%211s0x80c8c5451087ad2b%3A0x407d565c7e55d019&engine=google_maps&gl=us&google_domain=google.com&hl=en&q=Snoop+Dogg&type=place'}\n",
      "description: Find tickets for DJ Snoopadelic at AYU Dayclub in Las Vegas on 5/25/2025 at 12:00 PM\n",
      "ticket_info: [{'source': 'Spotify.com', 'link': 'https://open.spotify.com/concert/476K6rFs72bYGIezC1WqCA', 'link_type': 'tickets'}, {'source': 'Las Vegas', 'link': 'https://www.visitlasvegas.com/event/dj-snoopadelic/50392/', 'link_type': 'more info'}, {'source': 'Eventbrite', 'link': 'https://www.eventbrite.com/e/snoop-dogg-live-ayu-dayclub-tickets-1316635073949?aff=ebdssbdestsearch', 'link_type': 'more info'}, {'source': 'AllEvents', 'link': 'https://allevents.in/las%20vegas/snoop-dogg-live-ayu-dayclub/100001316635073949', 'link_type': 'more info'}, {'source': 'Bottle Service', 'link': 'https://bottleservice.com/events/dj-snoopadelic-memorial-day-weekend-2588', 'link_type': 'more info'}]\n",
      "venue: {'name': 'AYU Dayclub', 'rating': 3.8, 'reviews': 438, 'link': 'https://www.google.com/search?sca_esv=0dd1b38bec68be93&hl=en&gl=us&q=AYU+Dayclub&ludocid=4646965345772752921&ibp=gwp%3B0,7'}\n",
      "\n",
      "\n",
      "\n",
      "title: Snoop Dogg\n",
      "date: {'start_date': 'Aug 13', 'when': 'Wed, Aug 13, 8 – 10 PM CDT'}\n",
      "address: ['Illinois State Fairground, 801 E Sangamon Ave', 'Springfield, IL']\n",
      "link: https://open.spotify.com/concert/2F84oswQqxgefOUQJcffc4\n",
      "event_location_map: {'image': 'https://www.google.com/maps/vt/data=wfD2H2BmwSMJW9T3IMA6VxnVglOSEmknBVH07bS0FbZ7fPzfErXorbKjSMSQlVpstzkmpOOaAY8FDUvPBs_MCyP5IKhwdjWRplKR4aG3PFBnj_DIFzc', 'link': 'https://www.google.com/maps/place//data=!4m2!3m1!1s0x8875371690dcfa19:0x94ae5e05dd8043fb?sa=X&ved=2ahUKEwiQgNrsruaMAxULGFkFHTAjDPMQ9eIBegQIChAA&hl=en&gl=us', 'serpapi_link': 'https://serpapi.com/search.json?data=%214m2%213m1%211s0x8875371690dcfa19%3A0x94ae5e05dd8043fb&engine=google_maps&gl=us&google_domain=google.com&hl=en&q=Snoop+Dogg&type=place'}\n",
      "description: Find tickets for Snoop Dogg at Illinois State Fairgrounds Il State Fair in Springfield on 8/13/2025 at 8:00 PM\n",
      "ticket_info: [{'source': 'Spotify.com', 'link': 'https://open.spotify.com/concert/2F84oswQqxgefOUQJcffc4', 'link_type': 'tickets'}, {'source': 'Axs.com', 'link': 'https://www.axs.com/events/893151/snoop-dogg-tickets', 'link_type': 'tickets'}, {'source': 'Enjoy Illinois', 'link': 'https://www.enjoyillinois.com/explore/listing/snoop-dogg-at-the-illinois-state-fair-grandstand/', 'link_type': 'more info'}, {'source': 'Expedia', 'link': 'https://www.expedia.com/event-tickets/snoop-dogg-tickets.p', 'link_type': 'more info'}, {'source': 'Live Nation', 'link': 'https://www.livenation.com/event/vv1A6Zka4GkdQ5gag/snoop-dogg', 'link_type': 'more info'}]\n",
      "venue: {'name': 'Illinois State Fairground', 'rating': 4.5, 'reviews': 102, 'link': 'https://www.google.com/search?sca_esv=0dd1b38bec68be93&hl=en&gl=us&q=Illinois+State+Fairground&ludocid=10713603942845006843&ibp=gwp%3B0,7'}\n",
      "\n",
      "\n",
      "\n",
      "title: MDW- SNOOP DOGG aka DJ SNOOPADELIC\n",
      "date: {'start_date': 'May 25', 'when': 'Sun, May 25, 10:30 – 11:45 PM'}\n",
      "address: ['Oxford Social Club, 435 Fifth Ave', 'San Diego, CA']\n",
      "link: https://www.eventbrite.com/e/snoop-dogg-aka-dj-snoopadelic-live-tickets-1321797113749\n",
      "event_location_map: {'image': 'https://www.google.com/maps/vt/data=whKVQiBKCQ2LhYJLvddVzIBKpKDRy2NDpVD6TdTaUGWu3l5ghFiiXHi_NE5IsNrrbTShWi_nAZQK2gbpDflQVve_cp8ajK-kOnzdoeEsV9z4o-0xYMU', 'link': 'https://www.google.com/maps/place//data=!4m2!3m1!1s0x80d953598b01edd1:0x70fd57ffd095aa19?sa=X&ved=2ahUKEwiQgNrsruaMAxULGFkFHTAjDPMQ9eIBegQIEhAA&hl=en&gl=us', 'serpapi_link': 'https://serpapi.com/search.json?data=%214m2%213m1%211s0x80d953598b01edd1%3A0x70fd57ffd095aa19&engine=google_maps&gl=us&google_domain=google.com&hl=en&q=Snoop+Dogg&type=place'}\n",
      "description: Snoop Dogg, A rapper, singer, actor, producer, and entrepreneur. A West Coast hip hop icon. Is LIVE at Oxford Social Club in San Diego!\n",
      "ticket_info: [{'source': 'Eventbrite.com', 'link': 'https://www.eventbrite.com/e/snoop-dogg-aka-dj-snoopadelic-live-tickets-1321797113749', 'link_type': 'tickets'}, {'source': 'Tablelist', 'link': 'https://www.tablelist.com/e/mdw-snoop-dogg-aka-dj-snoopadelic-at-oxford-social-club-92b58941db88757c', 'link_type': 'more info'}, {'source': 'DoSD', 'link': 'https://dosd.com/events/2025/5/25/mdw-snoop-dogg-aka-dj-snoopadelic-tickets', 'link_type': 'more info'}]\n",
      "venue: {'name': 'Oxford Social Club', 'rating': 3.9, 'reviews': 210, 'link': 'https://www.google.com/search?sca_esv=0dd1b38bec68be93&hl=en&gl=us&q=Oxford+Social+Club&ludocid=8141760457583471129&ibp=gwp%3B0,7'}\n",
      "\n",
      "\n",
      "\n",
      "title: Snoop Dogg\n",
      "date: {'start_date': 'Aug 13', 'when': 'Wed, Aug 13, 5:30 PM CDT'}\n",
      "address: ['Illinois State Fair Campground', 'Springfield, IL']\n",
      "link: https://m.facebook.com/events/654710903712254/?acontext=%7B%22action_history%22%3A%22null%22%7D&ref_source=newsfeed&ref_mechanism=feed_attachment\n",
      "event_location_map: {'image': 'https://www.google.com/maps/vt/data=ZVavvLhyPXqgDpBOTynwVeVWTGXWoCiJ0RMxX_MfrfLCQqmTs8DXLMSmCzNSadv3_yqPlqQnD1fSOqbTLrT0nAlPAaRYKQ1K3CzeancQL3Vjceiopb0', 'link': 'https://www.google.com/maps/place//data=!4m2!3m1!1s0x88753782f7b401c7:0x4a679475d6e84c73?sa=X&ved=2ahUKEwiQgNrsruaMAxULGFkFHTAjDPMQ9eIBegQIGhAA&hl=en&gl=us', 'serpapi_link': 'https://serpapi.com/search.json?data=%214m2%213m1%211s0x88753782f7b401c7%3A0x4a679475d6e84c73&engine=google_maps&gl=us&google_domain=google.com&hl=en&q=Snoop+Dogg&type=place'}\n",
      "description: Pre-Show Party event does NOT include a concert ticket. This event can be purchased in addition to a concert ticket. You MUST have both Pre-Show Party ticket AND Concert ticket to enter the Party...\n",
      "ticket_info: [{'source': 'Illinois Times', 'link': 'https://www.illinoistimes.com/springfield/snoop-dogg/Event?oid=19883712', 'link_type': 'more info'}, {'source': 'Facebook', 'link': 'https://m.facebook.com/events/654710903712254/?acontext=%7B%22action_history%22%3A%22null%22%7D&ref_source=newsfeed&ref_mechanism=feed_attachment', 'link_type': 'more info'}]\n",
      "venue: {'name': 'Illinois State Fair Campground', 'rating': 4.5, 'reviews': 158, 'link': 'https://www.google.com/search?sca_esv=0dd1b38bec68be93&hl=en&gl=us&q=Illinois+State+Fair+Campground&ludocid=5361417115245497459&ibp=gwp%3B0,7'}\n",
      "\n",
      "\n",
      "\n",
      "title: Snoop Dogg\n",
      "date: {'start_date': 'Jun 3', 'when': 'Tue, Jun 3, 8 PM ADT'}\n",
      "address: ['Scotiabank Centre, 1800 Argyle St', 'Halifax, NS, Canada']\n",
      "link: https://stagingo2.evenko.ca/en/events/scotiabank-centre/snoop-dogg?code=e001463\n",
      "event_location_map: {'image': 'https://www.google.com/maps/vt/data=LMfzoH8Sf9grOpqJHVKz9KwenE96bNyIDapzisRacDTILA5nZ4yYo_YI0RrFnJM9xPHBDNZ4jYuOdTL4R_jLvTuM8Gh691ERkmA9_4dAtIiWtZJ5BkQ', 'link': 'https://www.google.com/maps/place//data=!4m2!3m1!1s0x4b5a23cd1398ad51:0xededf12a4cb5c849?sa=X&ved=2ahUKEwiQgNrsruaMAxULGFkFHTAjDPMQ9eIBegQIIhAA&hl=en&gl=us', 'serpapi_link': 'https://serpapi.com/search.json?data=%214m2%213m1%211s0x4b5a23cd1398ad51%3A0xededf12a4cb5c849&engine=google_maps&gl=us&google_domain=google.com&hl=en&q=Snoop+Dogg&type=place'}\n",
      "description: Music | Snoop Dogg, June 3, 2024 - Scotiabank Centre. Doors: 6 PM / Show: 7 PM\n",
      "ticket_info: [{'source': '', 'link': None, 'link_type': 'tickets'}, {'source': 'Evenko', 'link': 'https://stagingo2.evenko.ca/en/events/scotiabank-centre/snoop-dogg?code=e001463', 'link_type': 'more info'}]\n",
      "venue: {'name': 'Scotiabank Centre', 'rating': 4.3, 'reviews': 1940, 'link': 'https://www.google.com/search?sca_esv=0dd1b38bec68be93&hl=en&gl=us&q=Scotiabank+Centre&ludocid=17144624520447248457&ibp=gwp%3B0,7'}\n",
      "\n",
      "\n",
      "\n",
      "title: Illinois State Fair - Lincoln Stage\n",
      "date: {'start_date': 'Aug 13', 'when': 'Wed, Aug 13, 3 – 5 PM CDT'}\n",
      "address: ['Illinois State Fairground, 801 E Sangamon Ave', 'Springfield, IL']\n",
      "link: https://upto.com/embedded/detail/NqkcO?pt=PGOO\n",
      "event_location_map: {'image': 'https://www.google.com/maps/vt/data=wfD2H2BmwSMJW9T3IMA6VxnVglOSEmknBVH07bS0FbZ7fPzfErXorbKjSMSQlVpstzkmpOOaAY8FDUvPBs_MCyP5IKhwdjWRplKR4aG3PFBnj_DIFzc', 'link': 'https://www.google.com/maps/place//data=!4m2!3m1!1s0x8875371690dcfa19:0x94ae5e05dd8043fb?sa=X&ved=2ahUKEwiQgNrsruaMAxULGFkFHTAjDPMQ9eIBegQIKhAA&hl=en&gl=us', 'serpapi_link': 'https://serpapi.com/search.json?data=%214m2%213m1%211s0x8875371690dcfa19%3A0x94ae5e05dd8043fb&engine=google_maps&gl=us&google_domain=google.com&hl=en&q=Snoop+Dogg&type=place'}\n",
      "ticket_info: [{'source': 'UpTo', 'link': 'https://upto.com/embedded/detail/NqkcO?pt=PGOO', 'link_type': 'more info'}, {'source': 'Hypebot', 'link': 'https://concerts.hypebot.com/artist/s/36-snoop-dogg', 'link_type': 'more info'}]\n",
      "venue: {'name': 'Illinois State Fairground', 'rating': 4.5, 'reviews': 102, 'link': 'https://www.google.com/search?sca_esv=0dd1b38bec68be93&hl=en&gl=us&q=Illinois+State+Fairground&ludocid=10713603942845006843&ibp=gwp%3B0,7'}\n",
      "\n",
      "\n",
      "\n",
      "title: SNOOP DOGG & NAS MUSIC BINGO — Naukabout Brewing\n",
      "date: {'start_date': 'Jul 17', 'when': 'Thu, Jul 17, 6:30 – 7:30 PM EDT'}\n",
      "address: ['Naukabout Brewery and Taproom, 13 Lake Ave', 'Mashpee, MA']\n",
      "link: https://www.naukabout.com/nauk-events/2025/7/17/snoop-dogg-amp-nas-music-bingo\n",
      "event_location_map: {'image': 'https://www.google.com/maps/vt/data=Y-yuYPuLILwrrYclcy3NmRsIMOX7o9I1oT5Q-v7ftUEx7oaCEOwmRqWt5_ZVvrJV71rXNj7DnCQhbMziq-Hr0pARAMiKO3xN8_eCpxoDC6LLm9Cpe7Q', 'link': 'https://www.google.com/maps/place//data=!4m2!3m1!1s0x89e4cd835babf6c9:0x67988d7e9d918dc7?sa=X&ved=2ahUKEwiQgNrsruaMAxULGFkFHTAjDPMQ9eIBegQIMhAA&hl=en&gl=us', 'serpapi_link': 'https://serpapi.com/search.json?data=%214m2%213m1%211s0x89e4cd835babf6c9%3A0x67988d7e9d918dc7&engine=google_maps&gl=us&google_domain=google.com&hl=en&q=Snoop+Dogg&type=place'}\n",
      "ticket_info: [{'source': 'Naukabout Brewing', 'link': 'https://www.naukabout.com/nauk-events/2025/7/17/snoop-dogg-amp-nas-music-bingo', 'link_type': 'more info'}]\n",
      "venue: {'name': 'Naukabout Brewery and Taproom', 'rating': 4.6, 'reviews': 420, 'link': 'https://www.google.com/search?sca_esv=0dd1b38bec68be93&hl=en&gl=us&q=Naukabout+Brewery+and+Taproom&ludocid=7464871957315554759&ibp=gwp%3B0,7'}\n",
      "\n",
      "\n",
      "\n",
      "title: (HTX) PRESS PLAYERS CLUB ALBUM21: DOGGYSTYLE x SNOOP DOGGY DOGG\n",
      "date: {'start_date': 'Apr 29', 'when': 'Tue, Apr 29, 7 – 10 PM CDT'}\n",
      "address: ['Social Status Houston, 818 Town and Country Blvd #104', 'Houston, TX']\n",
      "link: https://www.eventbrite.com/e/htx-press-players-club-album21-doggystyle-x-snoop-doggy-dogg-tickets-1286866013889?aff=ebdssbdestsearch\n",
      "event_location_map: {'image': 'https://www.google.com/maps/vt/data=QdXjy2GCpPI_Hg_thcsMJkJdOeCnHf5EZ27JzrQ9LC5GkdO7U8pUN93ilfzast7cx_gcYzsN8quybhXkkgholnzb1L1UBj_qvXDu9nCnxfQIhZ4CV8c', 'link': 'https://www.google.com/maps/place//data=!4m2!3m1!1s0x8640c4b367dde78b:0x6122b8b424f2a9e6?sa=X&ved=2ahUKEwiQgNrsruaMAxULGFkFHTAjDPMQ9eIBegQIOhAA&hl=en&gl=us', 'serpapi_link': 'https://serpapi.com/search.json?data=%214m2%213m1%211s0x8640c4b367dde78b%3A0x6122b8b424f2a9e6&engine=google_maps&gl=us&google_domain=google.com&hl=en&q=Snoop+Dogg&type=place'}\n",
      "description: Join us as we discuss and dissect Snoop Doggy Dogg's 1993 debut album DOGGYSTYLE\n",
      "ticket_info: [{'source': 'Eventbrite.com', 'link': 'https://www.eventbrite.com/e/htx-press-players-club-album21-doggystyle-x-snoop-doggy-dogg-tickets-1286866013889', 'link_type': 'tickets'}, {'source': 'AllEvents', 'link': 'https://allevents.in/houston/htx-press-players-club-album21-doggystyle-x-snoop-doggy-dogg/100001286866013889', 'link_type': 'more info'}]\n",
      "venue: {'name': 'Social Status Houston', 'rating': 3.5, 'reviews': 174, 'link': 'https://www.google.com/search?sca_esv=0dd1b38bec68be93&hl=en&gl=us&q=Social+Status+Houston&ludocid=6999359854740679142&ibp=gwp%3B0,7'}\n",
      "\n",
      "\n",
      "\n",
      "title: Puff Puff Pass Tour - Snoop Dogg, Too Short, DJ Quik, Kurupt\n",
      "date: {'start_date': 'May 3', 'when': 'Sat, May 3, 2 – 5 AM'}\n",
      "address: ['', '']\n",
      "link: https://allevents.in/los%20angeles/puff-puff-pass-tour-snoop-dogg-too-short-dj-quik-kurupt/200024464312509\n",
      "description: www.EventsinYourCity.com Puff Puff Pass Tour 3: Snoop Dogg & Friends Snoop Dogg & Friends in \"Puff Puff Pass Tour 3\" Microsoft Theater (Los Angeles, CA) Some of the West Coast's best team up with...\n",
      "ticket_info: [{'source': 'AllEvents', 'link': 'https://allevents.in/los%20%C3%81ngeles/luniz', 'link_type': 'more info'}, {'source': 'Facebook', 'link': 'https://m.facebook.com/events/los-angeles-california/puff-puff-pass-tour-snoop-dogg-too-short-dj-quik-kurupt/2349410361796834/', 'link_type': 'more info'}]\n",
      "\n",
      "\n",
      "\n",
      "title: Goodies 2000s Hip Hop Day Party\n",
      "date: {'start_date': 'May 25', 'when': 'Sun, May 25, 4 – 7 PM'}\n",
      "address: ['Resident, 428 S Hewitt St', 'Los Angeles, CA']\n",
      "link: https://dola.com/events/2025/5/25/goodies-2000-s-hip-hop-day-party-l-a-tickets\n",
      "event_location_map: {'image': 'https://www.google.com/maps/vt/data=a3fnG7nmyZ9GvHOnB6I39eoM_j0AZQ_5Qs6Rz70a0K6kTGMjVfDlcOzZqnnUNMbE2SJcaZHFo50vnRmOXJI_ZyhRdjr5yTPNL3KmX7U_IALgKoGYEvg', 'link': 'https://www.google.com/maps/place//data=!4m2!3m1!1s0x80c2c63c7774c2bb:0x8705bcc0cfb55713?sa=X&ved=2ahUKEwiQgNrsruaMAxULGFkFHTAjDPMQ9eIBegQIQhAA&hl=en&gl=us', 'serpapi_link': 'https://serpapi.com/search.json?data=%214m2%213m1%211s0x80c2c63c7774c2bb%3A0x8705bcc0cfb55713&engine=google_maps&gl=us&google_domain=google.com&hl=en&q=Snoop+Dogg&type=place'}\n",
      "description: DAYTIME Edition of Goodies returns this Memorial Day Sunday Orlove by Day Presents: Goodies 2000s Hip Hop Day Party Inspired by the Music of: Missy Elliott • OutKast • Eminem • Dr. Dre • Nas • 50...\n",
      "ticket_info: [{'source': 'Eventbrite.com', 'link': 'https://www.eventbrite.com/e/goodies-2000s-hip-hop-day-party-memorial-day-sunday-tickets-1262788687959', 'link_type': 'tickets'}, {'source': 'DoLA', 'link': 'https://dola.com/events/2025/5/25/goodies-2000-s-hip-hop-day-party-l-a-tickets', 'link_type': 'more info'}, {'source': 'UNATION', 'link': 'https://www.unation.com/event/goodies-2000s-hip-hop-day-party-58021097/', 'link_type': 'more info'}, {'source': 'AllEvents', 'link': 'https://allevents.in/los%20angeles/goodies-2000s-hip-hop-day-party-la/100001262824113919', 'link_type': 'more info'}, {'source': 'StubHub', 'link': 'https://www.stubhub.com/2000s-hip-hop-day-party-tickets/performer/150398687', 'link_type': 'more info'}]\n",
      "venue: {'name': 'Resident', 'rating': 4.6, 'reviews': 999, 'link': 'https://www.google.com/search?sca_esv=0dd1b38bec68be93&hl=en&gl=us&q=Resident&ludocid=9729390106308335379&ibp=gwp%3B0,7'}\n",
      "\n",
      "\n",
      "\n"
     ]
    }
   ],
   "source": [
    "# usage example\n",
    "artist_name = \"Snoop Dogg\"\n",
    "api_key = \"e943f5221ef3d91e9eecf2076e110ed0a2615e29ae8919c1d73ad6b24b033534\"\n",
    "\n",
    "events = get_events_for_artist(artist_name, api_key)\n",
    "\n",
    "for event in events:\n",
    "    for key, value in event.items():\n",
    "        print(f\"{key}: {value}\")\n",
    "    print(\"\\n\\n\")"
   ]
  },
  {
   "cell_type": "code",
   "execution_count": 15,
   "id": "28787f16",
   "metadata": {},
   "outputs": [
    {
     "name": "stdout",
     "output_type": "stream",
     "text": [
      "title: DJ Snoopadelic\n",
      "date: {'start_date': 'May 25', 'when': 'Sun, May 25, 12 – 4 PM'}\n",
      "address: ['AYU Dayclub, 3000 S Las Vegas Blvd', 'Las Vegas, NV']\n",
      "link: https://open.spotify.com/concert/476K6rFs72bYGIezC1WqCA\n",
      "event_location_map: {'image': 'https://www.google.com/maps/vt/data=h5GDgs0Tod3KjJAABR9ZE12ijKJNbQUQbsdoSD4NaC9gdrz-fWfh4ZWakJ9q8pEKDM1r4MLe4Ffw2Y8Z8wFzEhP50qWvisJbkexrfeP2v7krjnmJz-8', 'link': 'https://www.google.com/maps/place//data=!4m2!3m1!1s0x80c8c5451087ad2b:0x407d565c7e55d019?sa=X&ved=2ahUKEwiQgNrsruaMAxULGFkFHTAjDPMQ9eIBegQIAhAA&hl=en&gl=us', 'serpapi_link': 'https://serpapi.com/search.json?data=%214m2%213m1%211s0x80c8c5451087ad2b%3A0x407d565c7e55d019&engine=google_maps&gl=us&google_domain=google.com&hl=en&q=Snoop+Dogg&type=place'}\n",
      "description: Find tickets for DJ Snoopadelic at AYU Dayclub in Las Vegas on 5/25/2025 at 12:00 PM\n",
      "ticket_info: [{'source': 'Spotify.com', 'link': 'https://open.spotify.com/concert/476K6rFs72bYGIezC1WqCA', 'link_type': 'tickets'}, {'source': 'Las Vegas', 'link': 'https://www.visitlasvegas.com/event/dj-snoopadelic/50392/', 'link_type': 'more info'}, {'source': 'Eventbrite', 'link': 'https://www.eventbrite.com/e/snoop-dogg-live-ayu-dayclub-tickets-1316635073949?aff=ebdssbdestsearch', 'link_type': 'more info'}, {'source': 'AllEvents', 'link': 'https://allevents.in/las%20vegas/snoop-dogg-live-ayu-dayclub/100001316635073949', 'link_type': 'more info'}, {'source': 'Bottle Service', 'link': 'https://bottleservice.com/events/dj-snoopadelic-memorial-day-weekend-2588', 'link_type': 'more info'}]\n",
      "venue: {'name': 'AYU Dayclub', 'rating': 3.8, 'reviews': 438, 'link': 'https://www.google.com/search?sca_esv=0dd1b38bec68be93&hl=en&gl=us&q=AYU+Dayclub&ludocid=4646965345772752921&ibp=gwp%3B0,7'}\n",
      "\n",
      "\n",
      "EVENT\n",
      "title: Snoop Dogg\n",
      "date: {'start_date': 'Aug 13', 'when': 'Wed, Aug 13, 8 – 10 PM CDT'}\n",
      "address: ['Illinois State Fairground, 801 E Sangamon Ave', 'Springfield, IL']\n",
      "link: https://open.spotify.com/concert/2F84oswQqxgefOUQJcffc4\n",
      "event_location_map: {'image': 'https://www.google.com/maps/vt/data=wfD2H2BmwSMJW9T3IMA6VxnVglOSEmknBVH07bS0FbZ7fPzfErXorbKjSMSQlVpstzkmpOOaAY8FDUvPBs_MCyP5IKhwdjWRplKR4aG3PFBnj_DIFzc', 'link': 'https://www.google.com/maps/place//data=!4m2!3m1!1s0x8875371690dcfa19:0x94ae5e05dd8043fb?sa=X&ved=2ahUKEwiQgNrsruaMAxULGFkFHTAjDPMQ9eIBegQIChAA&hl=en&gl=us', 'serpapi_link': 'https://serpapi.com/search.json?data=%214m2%213m1%211s0x8875371690dcfa19%3A0x94ae5e05dd8043fb&engine=google_maps&gl=us&google_domain=google.com&hl=en&q=Snoop+Dogg&type=place'}\n",
      "description: Find tickets for Snoop Dogg at Illinois State Fairgrounds Il State Fair in Springfield on 8/13/2025 at 8:00 PM\n",
      "ticket_info: [{'source': 'Spotify.com', 'link': 'https://open.spotify.com/concert/2F84oswQqxgefOUQJcffc4', 'link_type': 'tickets'}, {'source': 'Axs.com', 'link': 'https://www.axs.com/events/893151/snoop-dogg-tickets', 'link_type': 'tickets'}, {'source': 'Enjoy Illinois', 'link': 'https://www.enjoyillinois.com/explore/listing/snoop-dogg-at-the-illinois-state-fair-grandstand/', 'link_type': 'more info'}, {'source': 'Expedia', 'link': 'https://www.expedia.com/event-tickets/snoop-dogg-tickets.p', 'link_type': 'more info'}, {'source': 'Live Nation', 'link': 'https://www.livenation.com/event/vv1A6Zka4GkdQ5gag/snoop-dogg', 'link_type': 'more info'}]\n",
      "venue: {'name': 'Illinois State Fairground', 'rating': 4.5, 'reviews': 102, 'link': 'https://www.google.com/search?sca_esv=0dd1b38bec68be93&hl=en&gl=us&q=Illinois+State+Fairground&ludocid=10713603942845006843&ibp=gwp%3B0,7'}\n",
      "\n",
      "\n",
      "EVENT\n",
      "title: MDW- SNOOP DOGG aka DJ SNOOPADELIC\n",
      "date: {'start_date': 'May 25', 'when': 'Sun, May 25, 10:30 – 11:45 PM'}\n",
      "address: ['Oxford Social Club, 435 Fifth Ave', 'San Diego, CA']\n",
      "link: https://www.eventbrite.com/e/snoop-dogg-aka-dj-snoopadelic-live-tickets-1321797113749\n",
      "event_location_map: {'image': 'https://www.google.com/maps/vt/data=whKVQiBKCQ2LhYJLvddVzIBKpKDRy2NDpVD6TdTaUGWu3l5ghFiiXHi_NE5IsNrrbTShWi_nAZQK2gbpDflQVve_cp8ajK-kOnzdoeEsV9z4o-0xYMU', 'link': 'https://www.google.com/maps/place//data=!4m2!3m1!1s0x80d953598b01edd1:0x70fd57ffd095aa19?sa=X&ved=2ahUKEwiQgNrsruaMAxULGFkFHTAjDPMQ9eIBegQIEhAA&hl=en&gl=us', 'serpapi_link': 'https://serpapi.com/search.json?data=%214m2%213m1%211s0x80d953598b01edd1%3A0x70fd57ffd095aa19&engine=google_maps&gl=us&google_domain=google.com&hl=en&q=Snoop+Dogg&type=place'}\n",
      "description: Snoop Dogg, A rapper, singer, actor, producer, and entrepreneur. A West Coast hip hop icon. Is LIVE at Oxford Social Club in San Diego!\n",
      "ticket_info: [{'source': 'Eventbrite.com', 'link': 'https://www.eventbrite.com/e/snoop-dogg-aka-dj-snoopadelic-live-tickets-1321797113749', 'link_type': 'tickets'}, {'source': 'Tablelist', 'link': 'https://www.tablelist.com/e/mdw-snoop-dogg-aka-dj-snoopadelic-at-oxford-social-club-92b58941db88757c', 'link_type': 'more info'}, {'source': 'DoSD', 'link': 'https://dosd.com/events/2025/5/25/mdw-snoop-dogg-aka-dj-snoopadelic-tickets', 'link_type': 'more info'}]\n",
      "venue: {'name': 'Oxford Social Club', 'rating': 3.9, 'reviews': 210, 'link': 'https://www.google.com/search?sca_esv=0dd1b38bec68be93&hl=en&gl=us&q=Oxford+Social+Club&ludocid=8141760457583471129&ibp=gwp%3B0,7'}\n"
     ]
    }
   ],
   "source": [
    "import re\n",
    "\n",
    "# Format each event dictionary into a readable string\n",
    "events_str = \"\\n\\n\\nEVENT\\n\".join(\n",
    "\t\"\\n\".join(f\"{key}: {value}\" for key, value in event.items()) for event in events[:3]\n",
    ")\n",
    "print(events_str)"
   ]
  }
 ],
 "metadata": {
  "kernelspec": {
   "display_name": "Python 3.10 (Data)",
   "language": "python",
   "name": "data-science"
  },
  "language_info": {
   "codemirror_mode": {
    "name": "ipython",
    "version": 3
   },
   "file_extension": ".py",
   "mimetype": "text/x-python",
   "name": "python",
   "nbconvert_exporter": "python",
   "pygments_lexer": "ipython3",
   "version": "3.10.13"
  }
 },
 "nbformat": 4,
 "nbformat_minor": 5
}
