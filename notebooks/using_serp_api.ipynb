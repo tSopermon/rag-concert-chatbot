{
 "cells": [
  {
   "cell_type": "markdown",
   "id": "48346554",
   "metadata": {},
   "source": [
    "Notebook created by [Nikolaos Tsopanidis](https://github.com/tSopermon)\n",
    "# Using **SerpApi** to fetch events' info"
   ]
  },
  {
   "cell_type": "markdown",
   "id": "9387d81f",
   "metadata": {},
   "source": [
    "## 1. Installing Python package to use SerpApi to scrape search results from Google"
   ]
  },
  {
   "cell_type": "code",
   "execution_count": null,
   "id": "9a1d36d8",
   "metadata": {},
   "outputs": [],
   "source": [
    "%pip install google-search-results"
   ]
  },
  {
   "cell_type": "markdown",
   "id": "084282b6",
   "metadata": {},
   "source": [
    "## 2. Import library"
   ]
  },
  {
   "cell_type": "code",
   "execution_count": 16,
   "id": "4071f6d8",
   "metadata": {},
   "outputs": [],
   "source": [
    "from serpapi import GoogleSearch\n",
    "import os"
   ]
  },
  {
   "cell_type": "markdown",
   "id": "1878a4d0",
   "metadata": {},
   "source": [
    "## 3. Creating function to search for concerts of a given artist using the SerpAPI"
   ]
  },
  {
   "cell_type": "code",
   "execution_count": null,
   "id": "c43a4972",
   "metadata": {},
   "outputs": [],
   "source": [
    "def search_concerts(artist_name):\n",
    "    \"\"\"\n",
    "    Args:\n",
    "        artist_name (str): The name of the artist to search for.\n",
    "    Returns:\n",
    "        dict: A dictionary containing the search results.\n",
    "    \"\"\"\n",
    "    params = {\n",
    "      \"api_key\": \"e943f5221ef3d91e9eecf2076e110ed0a2615e29ae8919c1d73ad6b24b033534\",\n",
    "      \"engine\": \"google_events\",\n",
    "      \"q\": {artist_name},\n",
    "      \"hl\": \"en\",\n",
    "      \"gl\": \"us\",\n",
    "      \"htichips\": \"concerts\"\n",
    "    }\n",
    "    search = GoogleSearch(params)\n",
    "    results = search.get_dict()\n",
    "\n",
    "    return results"
   ]
  },
  {
   "cell_type": "markdown",
   "id": "ca7251a2",
   "metadata": {},
   "source": [
    "## 4. Using the function to fetch info about Sabrina Carpenter's upcoming concerts"
   ]
  },
  {
   "cell_type": "code",
   "execution_count": null,
   "id": "410de8b5",
   "metadata": {},
   "outputs": [],
   "source": [
    "# Usage example\n",
    "concerts = search_concerts(\"Sabrina Carpenter\")"
   ]
  },
  {
   "cell_type": "markdown",
   "id": "3b0865ba",
   "metadata": {},
   "source": [
    "### Extracting event list from the dictionary and dropping the last two columns as we don't need them for this project"
   ]
  },
  {
   "cell_type": "code",
   "execution_count": 11,
   "id": "49742676",
   "metadata": {},
   "outputs": [],
   "source": [
    "events = concerts.get(\"events_results\", [])\n",
    "# drop 2 last columns from list\n",
    "for event in events:\n",
    "    event.pop(\"thumbnail\", None)\n",
    "    event.pop(\"image\", None)"
   ]
  },
  {
   "cell_type": "markdown",
   "id": "987f1e23",
   "metadata": {},
   "source": [
    "### Creating a text file containing all the event information\n",
    " * event title\n",
    " * start date\n",
    " * address\n",
    " * link of the event\n",
    " * location of the event on Google Maps\n",
    " * description\n",
    " * tickets information\n",
    " * venue"
   ]
  },
  {
   "cell_type": "code",
   "execution_count": 12,
   "id": "35cd770e",
   "metadata": {},
   "outputs": [],
   "source": [
    "with open('all_events.txt', 'w') as f:\n",
    "    for i, event in enumerate(events):\n",
    "        for key, value in event.items():\n",
    "            f.write(f\"{value}\\n\")\n",
    "        f.write(\"\\n\\n\")"
   ]
  },
  {
   "cell_type": "markdown",
   "id": "bb646e5b",
   "metadata": {},
   "source": [
    "### Display the file's content"
   ]
  },
  {
   "cell_type": "code",
   "execution_count": 13,
   "id": "bcc5c705",
   "metadata": {},
   "outputs": [
    {
     "name": "stdout",
     "output_type": "stream",
     "text": [
      "Girly Pop Drag Brunch Sabrina Carpenter and Chappell Roan Los Angeles 4/19\n",
      "{'start_date': 'Apr 19', 'when': 'Sat, Apr 19, 11 AM – 2 PM PDT'}\n",
      "['Kalaveras, 5300 Lankershim Blvd #130', 'North Hollywood, CA']\n",
      "https://www.eventbrite.com/e/girly-pop-drag-brunch-sabrina-carpenter-and-chappell-roan-los-angeles-419-tickets-1288066183629\n",
      "{'image': 'https://www.google.com/maps/vt/data=NDrAtvCRq8u7-0aFLrfElfqAo8OxbofW7hFIGdP-Nuh1Uw0iwwWdXbF-hBnFiFu84nK5J27pU89FIaqJP4gCUlV5Zo245bnQ-5EiXN7tLRt9EXShqso', 'link': 'https://www.google.com/maps/place//data=!4m2!3m1!1s0x80c295bc6f42d311:0xa90b025ddcf77700?sa=X&ved=2ahUKEwjal_D41uSMAxWhMdAFHV2oHnsQ9eIBegQIAhAA&hl=en&gl=us', 'serpapi_link': 'https://serpapi.com/search.json?data=%214m2%213m1%211s0x80c295bc6f42d311%3A0xa90b025ddcf77700&engine=google_maps&gl=us&google_domain=google.com&hl=en&q=Sabrina+Carpenter&type=place'}\n",
      "Join us for a fabulous drag brunch celebrating Sabrina and Chappell with lip-sync performances, delicious food, and bottomless mimosas\n",
      "[{'source': 'Eventbrite.com', 'link': 'https://www.eventbrite.com/e/girly-pop-drag-brunch-sabrina-carpenter-and-chappell-roan-los-angeles-419-tickets-1288066183629', 'link_type': 'tickets'}, {'source': 'Trip.com', 'link': 'https://us.trip.com/events/girly-pop-drag-brunch-sabrina-carpenter-and-chappell-roan-los-angeles-419-20250409/', 'link_type': 'more info'}, {'source': 'AllEvents', 'link': 'https://allevents.in/los%20angeles/girly-pop-drag-brunch-sabrina-carpenter-and-chappell-roan-los-angeles-4-19/100001288066183629', 'link_type': 'more info'}]\n",
      "{'name': 'Kalaveras', 'rating': 4.0, 'reviews': 287, 'link': 'https://www.google.com/search?sca_esv=70d7635d7621967e&gl=us&hl=en&q=Kalaveras&ludocid=12180832219316057856&ibp=gwp%3B0,7'}\n",
      "\n",
      "\n",
      "Please Please Please - Sabrina Carpenter Dance Party\n",
      "{'start_date': 'May 2', 'when': 'Fri, May 2, 7:00 – 8:30 PM EDT'}\n",
      "['Tellus360, 24 E King St', 'Lancaster, PA']\n",
      "https://lancasteronline.com/visitlancaster/calendar/?_evDiscoveryPath=/event/106593383n-party-iconic\n",
      "{'image': 'https://www.google.com/maps/vt/data=-7xcljzGsuQ1FdR8nEbx5LvPJ_h64gsE-H_oL1NZgYql_KNpZHx6_fggJXWdbJIKTu_VIMOk5P9V5EDnz7S_hZYUnleDXvmCut9twGkKPOEGfxg-Qis', 'link': 'https://www.google.com/maps/place//data=!4m2!3m1!1s0x89c624edeab534c5:0x61e8898e9ba499e9?sa=X&ved=2ahUKEwjal_D41uSMAxWhMdAFHV2oHnsQ9eIBegQIChAA&hl=en&gl=us', 'serpapi_link': 'https://serpapi.com/search.json?data=%214m2%213m1%211s0x89c624edeab534c5%3A0x61e8898e9ba499e9&engine=google_maps&gl=us&google_domain=google.com&hl=en&q=Sabrina+Carpenter&type=place'}\n",
      "PLEASE PLEASE PLEASE PARTY Iconic parties celebrating iconic artists.\n",
      "[{'source': 'Axs.com', 'link': 'https://www.axs.com/au/events/924165/please-please-please-sabrina-carpenter-dance-party-21-event-tickets', 'link_type': 'tickets'}, {'source': 'Ticketsqueeze.com', 'link': 'https://www.ticketsqueeze.com/tickets/7036873/please-please-please-party-the-sabrina-carpenter-dance-party-2025-05-02-19-00-00-tellus-360', 'link_type': 'tickets'}, {'source': 'Vividseats.com', 'link': 'https://www.vividseats.com/please-please-please---sabrina-carpenter-dance-party-tickets-lancaster-tellus360-5-2-2025--concerts-pop/production/5628536', 'link_type': 'tickets'}, {'source': 'Live Nation', 'link': 'https://www.livenation.com/event/vv17FZbJGknDWfEe/party-iconic-presents-please-please-please-party', 'link_type': 'more info'}, {'source': 'ABC27', 'link': 'http://abc27.com/community-calendar/#!/details/party-iconic-presents-please-please-please-party/15312598/2025-05-02T19', 'link_type': 'more info'}]\n",
      "{'name': 'Tellus360', 'rating': 4.4, 'reviews': 2230, 'link': 'https://www.google.com/search?sca_esv=70d7635d7621967e&gl=us&hl=en&q=Tellus360&ludocid=7055040061865499113&ibp=gwp%3B0,7'}\n",
      "\n",
      "\n",
      "Tate McRae, Sabrina Carpenter AND Charli XCX Drag Brunch (21+ Event)\n",
      "{'start_date': 'Apr 19', 'when': 'Sat, Apr 19, 10 AM – 2 PM MST'}\n",
      "['Desert Ridge Improv, 21001 N Tatum Blvd', 'Phoenix, AZ']\n",
      "https://www-desertridgeimprov-com.seatengine.com/events/110942\n",
      "{'image': 'https://www.google.com/maps/vt/data=JLK25Pxk35IST1aAHrrJ1Le69c3wG9TgRisWw33_iyaXoT7LpijDXy7AFa_8zhWPnBWNqFnhXdj9N0kLIJ3P4aFuC_aPXqHMnt8TYw4SbTdYOiIRsIA', 'link': 'https://www.google.com/maps/place//data=!4m2!3m1!1s0x872b71cfcacdfaa3:0x80c150054e63406c?sa=X&ved=2ahUKEwjal_D41uSMAxWhMdAFHV2oHnsQ9eIBegQIEhAA&hl=en&gl=us', 'serpapi_link': 'https://serpapi.com/search.json?data=%214m2%213m1%211s0x872b71cfcacdfaa3%3A0x80c150054e63406c&engine=google_maps&gl=us&google_domain=google.com&hl=en&q=Sabrina+Carpenter&type=place'}\n",
      "🙌 Tate McRae, Sabrina Carpenter + Charli XCX Drag Brunch 🙌 🔥 Get down to Gen Z pop stars at an unforgettable drag brunch. You'll hear all the hits 🔥 ✨ Hosted by Espressa Grande (It's her...\n",
      "[{'source': 'Axs.com', 'link': 'https://www.axs.com/nz/events/911069/tate-mcrae-sabrina-carpenter-and-charli-xcx-drag-brunch-21-event-tickets', 'link_type': 'tickets'}, {'source': 'Desertridgeimprov.com', 'link': 'https://www.desertridgeimprov.com/shows/307891', 'link_type': 'tickets'}, {'source': 'Payson Roundup', 'link': 'https://www.paysonroundup.com/events/?_evDiscoveryPath=/event/911069s-tate-mcrae-sabrina-carpenter-and-charli-xcx-drag-brunch-21-event-', 'link_type': 'more info'}, {'source': 'Desert Ridge Improv', 'link': 'https://www-desertridgeimprov-com.seatengine.com/events/110942', 'link_type': 'more info'}, {'source': 'JackCentral', 'link': 'https://www.jackcentral.org/local-events/?_evDiscoveryPath=/event/911069s-tate-mcrae-sabrina-carpenter-and-charli-xcx-drag-brunch-21-event-', 'link_type': 'more info'}]\n",
      "{'name': 'Desert Ridge Improv', 'rating': 4.3, 'reviews': 1622, 'link': 'https://www.google.com/search?sca_esv=70d7635d7621967e&gl=us&hl=en&q=Desert+Ridge+Improv&ludocid=9277784691080118380&ibp=gwp%3B0,7'}\n",
      "\n",
      "\n",
      "Taste: Sabrina Carpenter Club Night\n",
      "{'start_date': 'Apr 25', 'when': 'Fri, Apr 25, 10 PM – Sat, Apr 26, 2 AM GMT+1'}\n",
      "['Queen of Hoxton, 1 Curtain Rd', 'London, United Kingdom']\n",
      "https://www.eventbrite.co.uk/e/taste-sabrina-carpenter-club-night-tickets-1319037038289\n",
      "{'image': 'https://www.google.com/maps/vt/data=9JNOdM0ng71SbDgvlZ5s05EmzfpZiQqDPtvjQWslkOc9R7EGB-oFiWHN0UPriqbVpuFifk1evVjOCNKkjWFyTMlNQPC19VmU5iwxs2O5sYSJ7PWcCsI', 'link': 'https://www.google.com/maps/place//data=!4m2!3m1!1s0x48761cb1cf4211b9:0x38d5358623731b26?sa=X&ved=2ahUKEwjal_D41uSMAxWhMdAFHV2oHnsQ9eIBegQIGhAA&hl=en&gl=us', 'serpapi_link': 'https://serpapi.com/search.json?data=%214m2%213m1%211s0x48761cb1cf4211b9%3A0x38d5358623731b26&engine=google_maps&gl=us&google_domain=google.com&hl=en&q=Sabrina+Carpenter&type=place'}\n",
      "Get ready for a night of pure pop bliss at Taste – the ultimate Sabrina Carpenter club night! 🌟 Join us on Friday, March 14th at Queen of Hoxton for an night filled with all of Sabrina’s...\n",
      "[{'source': 'Eventbrite.co.uk', 'link': 'https://www.eventbrite.co.uk/e/taste-sabrina-carpenter-club-night-tickets-1319037038289', 'link_type': 'tickets'}]\n",
      "{'name': 'Queen of Hoxton', 'rating': 3.9, 'reviews': 3568, 'link': 'https://www.google.com/search?sca_esv=70d7635d7621967e&gl=us&hl=en&q=Queen+of+Hoxton&ludocid=4095238286399970086&ibp=gwp%3B0,7'}\n",
      "\n",
      "\n",
      "The Sabrina Carpenter Experience\n",
      "{'start_date': 'Apr 27', 'when': 'Sun, Apr 27, 3:30 PM GMT+1'}\n",
      "['Patti Pavilion, Swansea, Victoria park, Mumbles Rd', 'Swansea, United Kingdom']\n",
      "https://allevents.in/swansea/the-sabrina-carpenter-experience/200027524489038\n",
      "{'image': 'https://www.google.com/maps/vt/data=BRTnQdl6X4rRUjysADPU9pOwaKqYzWIihSO7Y0JqzGDLs9_bOr7KVEywjk3Xk5rZIBMBt9SHhE4oJy-VHihqXrfj5HEFoHdfYjBkFWRxjTFKxgGEhBo', 'link': 'https://www.google.com/maps/place//data=!4m2!3m1!1s0x486e8ad4100d68e1:0x71b595a9690519b3?sa=X&ved=2ahUKEwjal_D41uSMAxWhMdAFHV2oHnsQ9eIBegQIIhAA&hl=en&gl=us', 'serpapi_link': 'https://serpapi.com/search.json?data=%214m2%213m1%211s0x486e8ad4100d68e1%3A0x71b595a9690519b3&engine=google_maps&gl=us&google_domain=google.com&hl=en&q=Sabrina+Carpenter&type=place'}\n",
      "*** NEW SHOW *** THE SABRINA CARPENTER EXPERIENCE! The Sabrina Carpenter Experience by Katy McKenna is a family friendly show, described as 'one big sleepover party'. Featuring all the hits...\n",
      "[{'source': 'Gigantic.com', 'link': 'https://www.gigantic.com/the-sabrina-carpenter-experience-tickets/swansea-patti-pavilion/2025-04-27-15-30', 'link_type': 'tickets'}, {'source': 'Ents24.com', 'link': 'https://www.ents24.com/swansea-events/patti-pavilion/sabrina-carpenter-experience/7221795', 'link_type': 'tickets'}, {'source': 'Planet Rock Tickets', 'link': 'https://www.planetrocktickets.co.uk/event/the-sabrina-carpenter-experience/', 'link_type': 'more info'}, {'source': 'Absolute Radio Ticket Store', 'link': 'https://www.absoluteradiotickets.co.uk/event/the-sabrina-carpenter-experience/', 'link_type': 'more info'}, {'source': 'AllEvents', 'link': 'https://allevents.in/swansea/the-sabrina-carpenter-experience/200027524489038', 'link_type': 'more info'}]\n",
      "{'name': 'Patti Pavilion, Swansea', 'rating': 4.3, 'reviews': 272, 'link': 'https://www.google.com/search?sca_esv=70d7635d7621967e&gl=us&hl=en&q=Patti+Pavilion,+Swansea&ludocid=8193619651914439091&ibp=gwp%3B0,7'}\n",
      "\n",
      "\n",
      "Taylor NI live at The Barn FAMILY FRIENDLY plus Sabrina Carpenter Tribute\n",
      "{'start_date': 'Apr 21', 'when': 'Mon, Apr 21, 4 – 7 PM GMT+1'}\n",
      "['Kellys Complex Portrush, Bushmills Rd', 'Portrush, United Kingdom']\n",
      "https://www.eventbrite.co.uk/e/taylor-ni-live-at-the-barn-family-friendly-plus-sabrina-carpenter-tribute-tickets-1245986492139\n",
      "{'image': 'https://www.google.com/maps/vt/data=0_aqxRm23vi1kpp-zwuqpzIJIqK9F747hySA7il6XWJGPBRpiwfAd21KIIeq-pcgnwS4gSI39RCdVgBZqGJPa-tLYkVhf9DSbiJLahIKhwMVePQqQyw', 'link': 'https://www.google.com/maps/place//data=!4m2!3m1!1s0x486025b8662b2751:0x1cd02eca4e8aa76a?sa=X&ved=2ahUKEwjal_D41uSMAxWhMdAFHV2oHnsQ9eIBegQIKhAA&hl=en&gl=us', 'serpapi_link': 'https://serpapi.com/search.json?data=%214m2%213m1%211s0x486025b8662b2751%3A0x1cd02eca4e8aa76a&engine=google_maps&gl=us&google_domain=google.com&hl=en&q=Sabrina+Carpenter&type=place'}\n",
      "She performed last year (Taylor Made) and is back with a new show, and a Sabrina Carpenter tribute to sweeten the deal.\n",
      "[{'source': 'Eventbrite.co.uk', 'link': 'https://www.eventbrite.co.uk/e/taylor-ni-live-at-the-barn-family-friendly-plus-sabrina-carpenter-tribute-tickets-1245986492139', 'link_type': 'tickets'}]\n",
      "{'name': 'Kellys Complex Portrush', 'rating': 3.9, 'reviews': 49, 'link': 'https://www.google.com/search?sca_esv=70d7635d7621967e&gl=us&hl=en&q=Kellys+Complex+Portrush&ludocid=2076210874653779818&ibp=gwp%3B0,7'}\n",
      "\n",
      "\n",
      "Please Please Please Party: The Sabrina Carpenter Dance Party\n",
      "{'start_date': 'May 2', 'when': 'Fri, May 2, 8 – 11 PM EDT'}\n",
      "['The Drake, 44 N Pleasant St', 'Amherst, MA']\n",
      "https://www.tixr.com/groups/thedrake/events/please-please-please-party-the-sabrina-carpenter-dance-party-139274\n",
      "{'image': 'https://www.google.com/maps/vt/data=lESInSubCCtybT8UMCO3zuuCl5bIqUy7y-l5EANs5bnWCVITnW9DWTKK86UWGArrcnYTOhQNd73ou53rB3JG303oNukboOwou4Xp5I5l2-wCoW_l6P0', 'link': 'https://www.google.com/maps/place//data=!4m2!3m1!1s0x89e6cd53985ffbbb:0xf762b76147165d02?sa=X&ved=2ahUKEwjal_D41uSMAxWhMdAFHV2oHnsQ9eIBegQIMhAA&hl=en&gl=us', 'serpapi_link': 'https://serpapi.com/search.json?data=%214m2%213m1%211s0x89e6cd53985ffbbb%3A0xf762b76147165d02&engine=google_maps&gl=us&google_domain=google.com&hl=en&q=Sabrina+Carpenter&type=place'}\n",
      "Oh, we leave quite an impression–the best party to be exact 💋We’ll be dancing all night long to your favorite pop girlies, including\n",
      "[{'source': 'Tixr.com', 'link': 'https://www.tixr.com/groups/thedrake/events/please-please-please-party-the-sabrina-carpenter-dance-party-139274', 'link_type': 'tickets'}]\n",
      "{'name': 'The Drake', 'rating': 4.6, 'reviews': 88, 'link': 'https://www.google.com/search?sca_esv=70d7635d7621967e&gl=us&hl=en&q=The+Drake&ludocid=17826011903518203138&ibp=gwp%3B0,7'}\n",
      "\n",
      "\n",
      "Bitter Sweet - Music of Sabrina Carpenter and Olivia Rodrigo\n",
      "{'start_date': 'Apr 21', 'when': 'Mon, Apr 21, 9 PM – Tue, Apr 22, 12 AM GMT+1'}\n",
      "['TF Royal Hotel & Theatre, Old Westport Road', 'Castlebar, County Mayo, Ireland']\n",
      "https://www.datathistle.com/event/2617713-sweet-and-sour-the-ultimate-tribute-to-sabrina-carpenter-and-olivia-rodrigo/112085-royal-theatre-and-event-centre-castlebar/\n",
      "{'image': 'https://www.google.com/maps/vt/data=abouvb5jXXLMlVxxcuWwrltjgFfmAa0knVNbXxJNvz2ypnnOcWHCyEsoK5ccI1SeAxnddo1w572qlBaJ2-5W3UVXb5qrV-GJNUowLcyIl7OcpKqUT9Y', 'link': 'https://www.google.com/maps/place//data=!4m2!3m1!1s0x48595d84220b5eb9:0x941a122ee88e9e43?sa=X&ved=2ahUKEwjal_D41uSMAxWhMdAFHV2oHnsQ9eIBegQIOhAA&hl=en&gl=us', 'serpapi_link': 'https://serpapi.com/search.json?data=%214m2%213m1%211s0x48595d84220b5eb9%3A0x941a122ee88e9e43&engine=google_maps&gl=us&google_domain=google.com&hl=en&q=Sabrina+Carpenter&type=place'}\n",
      "Get ready for an electrifying night of pop anthems, heartbreak hits, and fierce rival vibes at Sweet and Sour–the ultimate Olivia Rodrigo vs. Sabrina Carpenter tribute show! Featuring a powerhouse...\n",
      "[{'source': 'Theatresonline.com', 'link': 'https://www.theatresonline.com/shows/tf-royal/bitter-sweet-music-of-sabrina-carpenter-and-olivia-rodrigo', 'link_type': 'tickets'}, {'source': 'Evvnt', 'link': 'https://touchlocal.evvnt.com/?_evDiscoveryPath=/event/37219204t-bitter-sweet-music-of-sabrina-carpenter-and-olivia-rodrigo', 'link_type': 'more info'}, {'source': 'Data Thistle', 'link': 'https://www.datathistle.com/event/2602730-bitter-sweet-music-of-sabrina-carpenter-and-olivia-rodrigo/', 'link_type': 'more info'}, {'source': 'TicketSwap', 'link': 'https://www.ticketswap.com/event/bitter-sweet-music-of-sabrina-carpenter-and-olivia-rodrigo/1a7a26a4-8e71-47ae-8f93-54308d391445', 'link_type': 'more info'}, {'source': 'AllEvents', 'link': 'https://allevents.in/castlebar/bitter-sweet-music-of-sabrina-carpenter-and-olivia-rodrigo/200027739063537', 'link_type': 'more info'}]\n",
      "{'name': 'TF Royal Hotel & Theatre', 'rating': 4.3, 'reviews': 1114, 'link': 'https://www.google.com/search?sca_esv=70d7635d7621967e&gl=us&hl=en&q=TF+Royal+Hotel+%26+Theatre&ludocid=10671862259687267907&ibp=gwp%3B0,7'}\n",
      "\n",
      "\n",
      "PowerPOP Girls: A Chappell Roan, Charli XCX & Sabrina Carpenter Dance Party\n",
      "{'start_date': 'Apr 25', 'when': 'Fri, Apr 25, 9 PM – Sat, Apr 26, 12 AM'}\n",
      "['First Avenue, 701 N 1st Ave', 'Minneapolis, MN']\n",
      "https://www.startribune.com/things-to-do/events-calendar/show/details/flip-phone-the-powerpop-girls/15298364/2025-04-25T21\n",
      "{'image': 'https://www.google.com/maps/vt/data=NjExInftZELqmB9OSYVxeNFaM9m5yGGnsE0JxCjGOFZCEVMx3i7XFMfdvnZMDMDzpvfYABNalWCfLDEB97LjQsvihN65EA34xwjlF_WOn2G5boMliPY', 'link': 'https://www.google.com/maps/place//data=!4m2!3m1!1s0x52b332917cb8a83f:0xadb920377f253346?sa=X&ved=2ahUKEwjal_D41uSMAxWhMdAFHV2oHnsQ9eIBegQIQhAA&hl=en&gl=us', 'serpapi_link': 'https://serpapi.com/search.json?data=%214m2%213m1%211s0x52b332917cb8a83f%3A0xadb920377f253346&engine=google_maps&gl=us&google_domain=google.com&hl=en&q=Sabrina+Carpenter&type=place'}\n",
      "The Powerpop Girls: Sabrina + Chappell + Charli featuring Sasha Cassadine, Aranya, Ken Doll, Priscilla Es Yuicy, Frozaen Pissás and Iconica with music by DJ Aquaria (RuPaul’s Drag Race), DJ Izzie...\n",
      "[{'source': 'Axs.com', 'link': 'https://www.axs.com/nz/events/861293/the-powerpop-girls-sabrina-chappell-charli-tickets', 'link_type': 'tickets'}, {'source': 'Star Tribune', 'link': 'https://www.startribune.com/things-to-do/events-calendar/show/details/flip-phone-the-powerpop-girls/15298364/2025-04-25T21', 'link_type': 'more info'}, {'source': 'KARE 11', 'link': 'https://www.kare11.com/events?_evDiscoveryPath=/event/861293s-the-powerpop-girls-sabrina-chappell-charli', 'link_type': 'more info'}, {'source': 'My Villager', 'link': 'https://www.myvillager.com/local-events/?_evDiscoveryPath=/event/861293s-the-powerpop-girls-sabrina-chappell-charli', 'link_type': 'more info'}, {'source': 'Press Publications', 'link': 'https://www.presspubs.com/local-events/?_evDiscoveryPath=/event/861293s-the-powerpop-girls-sabrina-chappell-charli', 'link_type': 'more info'}]\n",
      "{'name': 'First Avenue', 'rating': 4.7, 'reviews': 4558, 'link': 'https://www.google.com/search?sca_esv=70d7635d7621967e&gl=us&hl=en&q=First+Avenue&ludocid=12518072061981438790&ibp=gwp%3B0,7'}\n",
      "\n",
      "\n",
      "54 Sings Glitter Gel Pen Songs: From Taylor Swift to Sabrina Carpenter\n",
      "{'start_date': 'May 2', 'when': 'Fri, May 2, 5:30 PM EDT'}\n",
      "['54 Below, 254 W 54th St', 'New York, NY']\n",
      "https://night-nyc.com/live-music/54-sings-glitter-gel-pen-songs-from-taylor-swift-to-sabrina-carpenter-2-may-new-york\n",
      "{'image': 'https://www.google.com/maps/vt/data=MFmMEKXfu7KVzDAsxLWEEEbPLZ-jwC1Co1GcpVtttsp1_dHE3A_vqBWLXc1dyiJ0b7Zq1bfVC_PnMVrD1S0QU2qegCB6bJ_nYliXphVOX92kaiguI6s', 'link': 'https://www.google.com/maps/place//data=!4m2!3m1!1s0x88e6937dcca0d5cd:0x9c01f5572b11a419?sa=X&ved=2ahUKEwjal_D41uSMAxWhMdAFHV2oHnsQ9eIBegQIShAA&hl=en&gl=us', 'serpapi_link': 'https://serpapi.com/search.json?data=%214m2%213m1%211s0x88e6937dcca0d5cd%3A0x9c01f5572b11a419&engine=google_maps&gl=us&google_domain=google.com&hl=en&q=Sabrina+Carpenter&type=place'}\n",
      "54 Sings Glitter Gel Pen Songs: From Taylor S..., at 54 Below in New York on Friday 2 May 2025 at 21:30 hours. Live-music. Night-NYC\n",
      "[{'source': 'Night-NYC', 'link': 'https://night-nyc.com/live-music/54-sings-glitter-gel-pen-songs-from-taylor-swift-to-sabrina-carpenter-2-may-new-york', 'link_type': 'more info'}]\n",
      "{'name': '54 Below', 'rating': 4.5, 'reviews': 180, 'link': 'https://www.google.com/search?sca_esv=70d7635d7621967e&gl=us&hl=en&q=54+Below&ludocid=11241535899627004953&ibp=gwp%3B0,7'}\n",
      "\n",
      "\n",
      "\n"
     ]
    }
   ],
   "source": [
    "with open('all_events.txt', 'r') as f:\n",
    "    content = f.read()\n",
    "    print(content)"
   ]
  },
  {
   "cell_type": "code",
   "execution_count": null,
   "id": "d622ea30",
   "metadata": {},
   "outputs": [
    {
     "name": "stdout",
     "output_type": "stream",
     "text": [
      "Number of events found: 10\n"
     ]
    }
   ],
   "source": [
    "print(f\"Number of events found: {len(events)}\")\n"
   ]
  },
  {
   "cell_type": "markdown",
   "id": "f1a9f8fb",
   "metadata": {},
   "source": [
    "## 5. Function "
   ]
  },
  {
   "cell_type": "code",
   "execution_count": null,
   "id": "d2cb83c3",
   "metadata": {},
   "outputs": [],
   "source": [
    "from serpapi import GoogleSearch\n",
    "\n",
    "def get_events_for_artist(artist_name, api_key):\n",
    "    \"\"\"\n",
    "    Args:\n",
    "        artist_name (str): The name of the artist to search for.\n",
    "        api_key (str): Your SerpAPI key.\n",
    "    Returns:\n",
    "        list: A list of events for the specified artist.\n",
    "    \"\"\"\n",
    "    params = {\n",
    "        \"api_key\": {api_key},\n",
    "        \"engine\": \"google_events\",\n",
    "        \"q\": {artist_name},\n",
    "        \"hl\": \"en\",\n",
    "        \"gl\": \"us\",\n",
    "        \"htichips\": \"concerts\"\n",
    "    }\n",
    "    search = GoogleSearch(params)\n",
    "    results = search.get_dict()\n",
    "    events = results.get(\"events_results\", [])\n",
    "    # drop 2 last columns from list\n",
    "    for event in events:\n",
    "        event.pop(\"thumbnail\", None)\n",
    "        event.pop(\"image\", None)\n",
    "\n",
    "    return events"
   ]
  },
  {
   "cell_type": "code",
   "execution_count": null,
   "id": "7e4246cc",
   "metadata": {},
   "outputs": [
    {
     "name": "stdout",
     "output_type": "stream",
     "text": [
      "title: Snoop Dogg\n",
      "date: {'start_date': 'Aug 13', 'when': 'Wed, Aug 13, 8 – 10 PM CDT'}\n",
      "address: ['Illinois State Fairground, 801 E Sangamon Ave', 'Springfield, IL']\n",
      "link: https://open.spotify.com/concert/2F84oswQqxgefOUQJcffc4\n",
      "event_location_map: {'image': 'https://www.google.com/maps/vt/data=wfD2H2BmwSMJW9T3IMA6VxnVglOSEmknBVH07bS0FbZ7fPzfErXorbKjSMSQlVpstzkmpOOaAY8FDUvPBs_MCyP5IKhwdjWRplKR4aG3PFBnj_DIFzc', 'link': 'https://www.google.com/maps/place//data=!4m2!3m1!1s0x8875371690dcfa19:0x94ae5e05dd8043fb?sa=X&ved=2ahUKEwi7idi13eSMAxURVTABHf84K2IQ9eIBegQIAhAA&hl=en&gl=us', 'serpapi_link': 'https://serpapi.com/search.json?data=%214m2%213m1%211s0x8875371690dcfa19%3A0x94ae5e05dd8043fb&engine=google_maps&gl=us&google_domain=google.com&hl=en&q=Snoop+Dogg&type=place'}\n",
      "description: Find tickets for Snoop Dogg at Illinois State Fairgrounds Il State Fair in Springfield on 8/13/2025 at 8:00 PM\n",
      "ticket_info: [{'source': 'Spotify.com', 'link': 'https://open.spotify.com/concert/2F84oswQqxgefOUQJcffc4', 'link_type': 'tickets'}, {'source': 'Axs.com', 'link': 'https://www.axs.com/events/893151/snoop-dogg-tickets', 'link_type': 'tickets'}, {'source': 'Enjoy Illinois', 'link': 'https://www.enjoyillinois.com/explore/listing/snoop-dogg-at-the-illinois-state-fair-grandstand/', 'link_type': 'more info'}, {'source': 'Expedia', 'link': 'https://www.expedia.com/event-tickets/snoop-dogg-tickets.p', 'link_type': 'more info'}, {'source': 'Live Nation', 'link': 'https://www.livenation.com/event/vv1A6Zka4GkdQ5gag/snoop-dogg', 'link_type': 'more info'}]\n",
      "venue: {'name': 'Illinois State Fairground', 'rating': 4.5, 'reviews': 102, 'link': 'https://www.google.com/search?sca_esv=97e4ebd26cccd6f2&gl=us&hl=en&q=Illinois+State+Fairground&ludocid=10713603942845006843&ibp=gwp%3B0,7'}\n",
      "\n",
      "\n",
      "\n",
      "title: Snoop Dogg\n",
      "date: {'start_date': 'Aug 13', 'when': 'Wed, Aug 13, 5:30 PM CDT'}\n",
      "address: ['Illinois State Fair Campground', 'Springfield, IL']\n",
      "link: https://m.facebook.com/events/654710903712254/?acontext=%7B%22action_history%22%3A%22null%22%7D&ref_source=newsfeed&ref_mechanism=feed_attachment\n",
      "event_location_map: {'image': 'https://www.google.com/maps/vt/data=ZVavvLhyPXqgDpBOTynwVeVWTGXWoCiJ0RMxX_MfrfLCQqmTs8DXLMSmCzNSadv3_yqPlqQnD1fSOqbTLrT0nAlPAaRYKQ1K3CzeancQL3Vjceiopb0', 'link': 'https://www.google.com/maps/place//data=!4m2!3m1!1s0x88753782f7b401c7:0x4a679475d6e84c73?sa=X&ved=2ahUKEwi7idi13eSMAxURVTABHf84K2IQ9eIBegQIChAA&hl=en&gl=us', 'serpapi_link': 'https://serpapi.com/search.json?data=%214m2%213m1%211s0x88753782f7b401c7%3A0x4a679475d6e84c73&engine=google_maps&gl=us&google_domain=google.com&hl=en&q=Snoop+Dogg&type=place'}\n",
      "description: Pre-Show Party event does NOT include a concert ticket. This event can be purchased in addition to a concert ticket. You MUST have both Pre-Show Party ticket AND Concert ticket to enter the Party...\n",
      "ticket_info: [{'source': 'Illinois Times', 'link': 'https://www.illinoistimes.com/springfield/snoop-dogg/Event?oid=19883712', 'link_type': 'more info'}, {'source': 'Facebook', 'link': 'https://m.facebook.com/events/654710903712254/?acontext=%7B%22action_history%22%3A%22null%22%7D&ref_source=newsfeed&ref_mechanism=feed_attachment', 'link_type': 'more info'}]\n",
      "venue: {'name': 'Illinois State Fair Campground', 'rating': 4.5, 'reviews': 157, 'link': 'https://www.google.com/search?sca_esv=97e4ebd26cccd6f2&gl=us&hl=en&q=Illinois+State+Fair+Campground&ludocid=5361417115245497459&ibp=gwp%3B0,7'}\n",
      "\n",
      "\n",
      "\n",
      "title: Puff Puff Pass Tour - Snoop Dogg, Too Short, DJ Quik, Kurupt\n",
      "date: {'start_date': 'May 3', 'when': 'Sat, May 3, 2 – 5 AM'}\n",
      "address: ['', '']\n",
      "link: https://allevents.in/los%20angeles/puff-puff-pass-tour-snoop-dogg-too-short-dj-quik-kurupt/200024464312509\n",
      "description: www.EventsinYourCity.com Puff Puff Pass Tour 3: Snoop Dogg & Friends Snoop Dogg & Friends in \"Puff Puff Pass Tour 3\" Microsoft Theater (Los Angeles, CA) Some of the West Coast's best team up with...\n",
      "ticket_info: [{'source': 'AllEvents', 'link': 'https://allevents.in/los%20%C3%81ngeles/luniz', 'link_type': 'more info'}, {'source': 'Facebook', 'link': 'https://m.facebook.com/events/los-angeles-california/puff-puff-pass-tour-snoop-dogg-too-short-dj-quik-kurupt/2349410361796834/', 'link_type': 'more info'}]\n",
      "\n",
      "\n",
      "\n",
      "title: DJ Snoopadelic\n",
      "date: {'start_date': 'May 25', 'when': 'Sun, May 25, 12 – 4 PM PDT'}\n",
      "address: ['AYU Dayclub, 3000 S Las Vegas Blvd', 'Las Vegas, NV']\n",
      "link: https://open.spotify.com/concert/476K6rFs72bYGIezC1WqCA\n",
      "event_location_map: {'image': 'https://www.google.com/maps/vt/data=h5GDgs0Tod3KjJAABR9ZE12ijKJNbQUQbsdoSD4NaC9gdrz-fWfh4ZWakJ9q8pEKDM1r4MLe4Ffw2Y8Z8wFzEhP50qWvisJbkexrfeP2v7krjnmJz-8', 'link': 'https://www.google.com/maps/place//data=!4m2!3m1!1s0x80c8c5451087ad2b:0x407d565c7e55d019?sa=X&ved=2ahUKEwi7idi13eSMAxURVTABHf84K2IQ9eIBegQIEhAA&hl=en&gl=us', 'serpapi_link': 'https://serpapi.com/search.json?data=%214m2%213m1%211s0x80c8c5451087ad2b%3A0x407d565c7e55d019&engine=google_maps&gl=us&google_domain=google.com&hl=en&q=Snoop+Dogg&type=place'}\n",
      "description: Find tickets for DJ Snoopadelic at AYU Dayclub in Las Vegas on 5/25/2025 at 12:00 PM\n",
      "ticket_info: [{'source': 'Spotify.com', 'link': 'https://open.spotify.com/concert/476K6rFs72bYGIezC1WqCA', 'link_type': 'tickets'}, {'source': 'Las Vegas', 'link': 'https://www.visitlasvegas.com/event/dj-snoopadelic/50392/', 'link_type': 'more info'}, {'source': 'Eventbrite', 'link': 'https://www.eventbrite.com/e/snoop-dogg-live-ayu-dayclub-tickets-1316635073949?aff=ebdssbdestsearch', 'link_type': 'more info'}, {'source': 'AllEvents', 'link': 'https://allevents.in/las%20vegas/snoop-dogg-live-ayu-dayclub/100001316635073949', 'link_type': 'more info'}, {'source': 'Bottle Service', 'link': 'https://bottleservice.com/events/dj-snoopadelic-memorial-day-weekend-2588', 'link_type': 'more info'}]\n",
      "venue: {'name': 'AYU Dayclub', 'rating': 3.8, 'reviews': 438, 'link': 'https://www.google.com/search?sca_esv=97e4ebd26cccd6f2&gl=us&hl=en&q=AYU+Dayclub&ludocid=4646965345772752921&ibp=gwp%3B0,7'}\n",
      "\n",
      "\n",
      "\n",
      "title: Illinois State Fair - Lincoln Stage\n",
      "date: {'start_date': 'Aug 13', 'when': 'Wed, Aug 13, 3 – 5 PM CDT'}\n",
      "address: ['Illinois State Fairground, 801 E Sangamon Ave', 'Springfield, IL']\n",
      "link: https://upto.com/embedded/detail/NqkcO?pt=PGOO\n",
      "event_location_map: {'image': 'https://www.google.com/maps/vt/data=wfD2H2BmwSMJW9T3IMA6VxnVglOSEmknBVH07bS0FbZ7fPzfErXorbKjSMSQlVpstzkmpOOaAY8FDUvPBs_MCyP5IKhwdjWRplKR4aG3PFBnj_DIFzc', 'link': 'https://www.google.com/maps/place//data=!4m2!3m1!1s0x8875371690dcfa19:0x94ae5e05dd8043fb?sa=X&ved=2ahUKEwi7idi13eSMAxURVTABHf84K2IQ9eIBegQIGhAA&hl=en&gl=us', 'serpapi_link': 'https://serpapi.com/search.json?data=%214m2%213m1%211s0x8875371690dcfa19%3A0x94ae5e05dd8043fb&engine=google_maps&gl=us&google_domain=google.com&hl=en&q=Snoop+Dogg&type=place'}\n",
      "ticket_info: [{'source': 'UpTo', 'link': 'https://upto.com/embedded/detail/NqkcO?pt=PGOO', 'link_type': 'more info'}, {'source': 'Hypebot', 'link': 'https://concerts.hypebot.com/artist/s/36-snoop-dogg', 'link_type': 'more info'}]\n",
      "venue: {'name': 'Illinois State Fairground', 'rating': 4.5, 'reviews': 102, 'link': 'https://www.google.com/search?sca_esv=97e4ebd26cccd6f2&gl=us&hl=en&q=Illinois+State+Fairground&ludocid=10713603942845006843&ibp=gwp%3B0,7'}\n",
      "\n",
      "\n",
      "\n",
      "title: Snoop Dogg\n",
      "date: {'start_date': 'Jun 3', 'when': 'Tue, Jun 3, 8 PM ADT'}\n",
      "address: ['Scotiabank Centre, 1800 Argyle St', 'Halifax, NS, Canada']\n",
      "link: https://stagingo2.evenko.ca/en/events/scotiabank-centre/snoop-dogg?code=e001463\n",
      "event_location_map: {'image': 'https://www.google.com/maps/vt/data=LMfzoH8Sf9grOpqJHVKz9KwenE96bNyIDapzisRacDTILA5nZ4yYo_YI0RrFnJM9xPHBDNZ4jYuOdTL4R_jLvTuM8Gh691ERkmA9_4dAtIiWtZJ5BkQ', 'link': 'https://www.google.com/maps/place//data=!4m2!3m1!1s0x4b5a23cd1398ad51:0xededf12a4cb5c849?sa=X&ved=2ahUKEwi7idi13eSMAxURVTABHf84K2IQ9eIBegQIIhAA&hl=en&gl=us', 'serpapi_link': 'https://serpapi.com/search.json?data=%214m2%213m1%211s0x4b5a23cd1398ad51%3A0xededf12a4cb5c849&engine=google_maps&gl=us&google_domain=google.com&hl=en&q=Snoop+Dogg&type=place'}\n",
      "description: Music | Snoop Dogg, June 3, 2024 - Scotiabank Centre. Doors: 6 PM / Show: 7 PM\n",
      "ticket_info: [{'source': '', 'link': None, 'link_type': 'tickets'}, {'source': 'Evenko', 'link': 'https://stagingo2.evenko.ca/en/events/scotiabank-centre/snoop-dogg?code=e001463', 'link_type': 'more info'}]\n",
      "venue: {'name': 'Scotiabank Centre', 'rating': 4.3, 'reviews': 1939, 'link': 'https://www.google.com/search?sca_esv=97e4ebd26cccd6f2&gl=us&hl=en&q=Scotiabank+Centre&ludocid=17144624520447248457&ibp=gwp%3B0,7'}\n",
      "\n",
      "\n",
      "\n",
      "title: SNOOP DOGG & NAS MUSIC BINGO — Naukabout Brewing\n",
      "date: {'start_date': 'Jul 17', 'when': 'Thu, Jul 17, 6:30 – 7:30 PM'}\n",
      "address: ['Naukabout Brewery and Taproom, 13 Lake Ave', 'Mashpee, MA']\n",
      "link: https://www.naukabout.com/nauk-events/2025/7/17/snoop-dogg-amp-nas-music-bingo\n",
      "event_location_map: {'image': 'https://www.google.com/maps/vt/data=Y-yuYPuLILwrrYclcy3NmRsIMOX7o9I1oT5Q-v7ftUEx7oaCEOwmRqWt5_ZVvrJV71rXNj7DnCQhbMziq-Hr0pARAMiKO3xN8_eCpxoDC6LLm9Cpe7Q', 'link': 'https://www.google.com/maps/place//data=!4m2!3m1!1s0x89e4cd835babf6c9:0x67988d7e9d918dc7?sa=X&ved=2ahUKEwi7idi13eSMAxURVTABHf84K2IQ9eIBegQIKhAA&hl=en&gl=us', 'serpapi_link': 'https://serpapi.com/search.json?data=%214m2%213m1%211s0x89e4cd835babf6c9%3A0x67988d7e9d918dc7&engine=google_maps&gl=us&google_domain=google.com&hl=en&q=Snoop+Dogg&type=place'}\n",
      "ticket_info: [{'source': 'Naukabout Brewing', 'link': 'https://www.naukabout.com/nauk-events/2025/7/17/snoop-dogg-amp-nas-music-bingo', 'link_type': 'more info'}]\n",
      "venue: {'name': 'Naukabout Brewery and Taproom', 'rating': 4.6, 'reviews': 419, 'link': 'https://www.google.com/search?sca_esv=97e4ebd26cccd6f2&gl=us&hl=en&q=Naukabout+Brewery+and+Taproom&ludocid=7464871957315554759&ibp=gwp%3B0,7'}\n",
      "\n",
      "\n",
      "\n",
      "title: (HTX) PRESS PLAYERS CLUB ALBUM21: DOGGYSTYLE x SNOOP DOGGY DOGG\n",
      "date: {'start_date': 'Apr 29', 'when': 'Tue, Apr 29, 7 – 10 PM CDT'}\n",
      "address: ['Social Status Houston, 818 Town and Country Blvd #104', 'Houston, TX']\n",
      "link: https://www.eventbrite.com/e/htx-press-players-club-album21-doggystyle-x-snoop-doggy-dogg-tickets-1286866013889?aff=ebdssbdestsearch\n",
      "event_location_map: {'image': 'https://www.google.com/maps/vt/data=QdXjy2GCpPI_Hg_thcsMJkJdOeCnHf5EZ27JzrQ9LC5GkdO7U8pUN93ilfzast7cx_gcYzsN8quybhXkkgholnzb1L1UBj_qvXDu9nCnxfQIhZ4CV8c', 'link': 'https://www.google.com/maps/place//data=!4m2!3m1!1s0x8640c4b367dde78b:0x6122b8b424f2a9e6?sa=X&ved=2ahUKEwi7idi13eSMAxURVTABHf84K2IQ9eIBegQIMhAA&hl=en&gl=us', 'serpapi_link': 'https://serpapi.com/search.json?data=%214m2%213m1%211s0x8640c4b367dde78b%3A0x6122b8b424f2a9e6&engine=google_maps&gl=us&google_domain=google.com&hl=en&q=Snoop+Dogg&type=place'}\n",
      "description: Join us as we discuss and dissect Snoop Doggy Dogg's 1993 debut album DOGGYSTYLE\n",
      "ticket_info: [{'source': 'Eventbrite.com', 'link': 'https://www.eventbrite.com/e/htx-press-players-club-album21-doggystyle-x-snoop-doggy-dogg-tickets-1286866013889', 'link_type': 'tickets'}, {'source': 'AllEvents', 'link': 'https://allevents.in/houston/htx-press-players-club-album21-doggystyle-x-snoop-doggy-dogg/100001286866013889', 'link_type': 'more info'}]\n",
      "venue: {'name': 'Social Status Houston', 'rating': 3.5, 'reviews': 174, 'link': 'https://www.google.com/search?sca_esv=97e4ebd26cccd6f2&gl=us&hl=en&q=Social+Status+Houston&ludocid=6999359854740679142&ibp=gwp%3B0,7'}\n",
      "\n",
      "\n",
      "\n",
      "title: Epic Rap Battles Of History\n",
      "date: {'start_date': 'Jun 21', 'when': 'Sat, Jun 21, 7:45 – 9:45 PM GMT+1'}\n",
      "address: ['The T.E Dingwall Building, East Yard, 11 Camden Lock Pl', 'London, United Kingdom']\n",
      "link: https://www.datathistle.com/event/2350213-epic-rap-battles-of-history/54910-dingwalls-london-nw1/\n",
      "event_location_map: {'image': 'https://www.google.com/maps/vt/data=c0Ug2h5XNqMb8ZHByIUkfZuL9mAfUal9m3CkOGiRq9msQsUsR0bQIvi8oPX5uhNmtfoSGSUoGTmiwZXBFlyEsux7sj5wZ1Gy3963td_lYj_Bo37cB8g', 'link': 'https://www.google.com/maps/place//data=!4m2!3m1!1s0x48761ae3fc9917d1:0x3b41af378c7a897e?sa=X&ved=2ahUKEwi7idi13eSMAxURVTABHf84K2IQ9eIBegQIOhAA&hl=en&gl=us', 'serpapi_link': 'https://serpapi.com/search.json?data=%214m2%213m1%211s0x48761ae3fc9917d1%3A0x3b41af378c7a897e&engine=google_maps&gl=us&google_domain=google.com&hl=en&q=Snoop+Dogg&type=place'}\n",
      "description: Epic Rap Battles of History (from Los Angeles, USA) is a comedy rap series created by Nice Peter and EpicLLOYD which pits notable historical and pop culture figures against one another in a rap...\n",
      "ticket_info: [{'source': 'Spotify.com', 'link': 'https://open.spotify.com/concert/0lbTiGwbEaMBhqsjaIozhL', 'link_type': 'tickets'}, {'source': 'Axs.com', 'link': 'https://www.axs.com/uk/events/913868/epic-rap-battles-of-history-tickets', 'link_type': 'tickets'}, {'source': 'Seetickets.com', 'link': 'https://www.seetickets.com/event/epic-rap-battles-of-history/dingwalls/3388776?lang=en-GB&aff=id1youtubevideos', 'link_type': 'tickets'}, {'source': 'Bandsintown.com', 'link': 'https://www.bandsintown.com/e/1034820150?app_id=ggl_feed&came_from=289&utm_medium=web&utm_source=ggl_feed&utm_campaign=event', 'link_type': 'tickets'}, {'source': 'Shazam', 'link': 'https://www.shazam.com/event/5dfc985f-ba12-4142-9788-8d9b74dc83c8', 'link_type': 'more info'}]\n",
      "venue: {'name': 'The T.E Dingwall Building', 'rating': 4.0, 'reviews': 1034, 'link': 'https://www.google.com/search?sca_esv=97e4ebd26cccd6f2&gl=us&hl=en&q=The+T.E+Dingwall+Building&ludocid=4269886574838843774&ibp=gwp%3B0,7'}\n",
      "\n",
      "\n",
      "\n",
      "title: Goodies 2000s Hip Hop Day Party\n",
      "date: {'start_date': 'May 25', 'when': 'Sun, May 25, 4 – 7 PM PDT'}\n",
      "address: ['Resident, 428 S Hewitt St', 'Los Angeles, CA']\n",
      "link: https://dola.com/events/2025/5/25/goodies-2000-s-hip-hop-day-party-l-a-tickets\n",
      "event_location_map: {'image': 'https://www.google.com/maps/vt/data=a3fnG7nmyZ9GvHOnB6I39eoM_j0AZQ_5Qs6Rz70a0K6kTGMjVfDlcOzZqnnUNMbE2SJcaZHFo50vnRmOXJI_ZyhRdjr5yTPNL3KmX7U_IALgKoGYEvg', 'link': 'https://www.google.com/maps/place//data=!4m2!3m1!1s0x80c2c63c7774c2bb:0x8705bcc0cfb55713?sa=X&ved=2ahUKEwi7idi13eSMAxURVTABHf84K2IQ9eIBegQIQhAA&hl=en&gl=us', 'serpapi_link': 'https://serpapi.com/search.json?data=%214m2%213m1%211s0x80c2c63c7774c2bb%3A0x8705bcc0cfb55713&engine=google_maps&gl=us&google_domain=google.com&hl=en&q=Snoop+Dogg&type=place'}\n",
      "description: DAYTIME Edition of Goodies returns this Memorial Day Sunday Orlove by Day Presents: Goodies 2000s Hip Hop Day Party Inspired by the Music of: Missy Elliott • OutKast • Eminem • Dr. Dre • Nas • 50...\n",
      "ticket_info: [{'source': 'Eventbrite.com', 'link': 'https://www.eventbrite.com/e/goodies-2000s-hip-hop-day-party-memorial-day-sunday-tickets-1262788687959', 'link_type': 'tickets'}, {'source': 'DoLA', 'link': 'https://dola.com/events/2025/5/25/goodies-2000-s-hip-hop-day-party-l-a-tickets', 'link_type': 'more info'}, {'source': 'AllEvents', 'link': 'https://allevents.in/los%20angeles/goodies-2000s-hip-hop-day-party-la/100001262824113919', 'link_type': 'more info'}, {'source': 'StubHub', 'link': 'https://www.stubhub.com/2000s-hip-hop-day-party-tickets/performer/150398687', 'link_type': 'more info'}, {'source': 'Discotech', 'link': 'https://app.discotech.me/events/37914184-goodies-2000s-hip-hop-day-party-la-at-resident', 'link_type': 'more info'}]\n",
      "venue: {'name': 'Resident', 'rating': 4.6, 'reviews': 998, 'link': 'https://www.google.com/search?sca_esv=97e4ebd26cccd6f2&gl=us&hl=en&q=Resident&ludocid=9729390106308335379&ibp=gwp%3B0,7'}\n",
      "\n",
      "\n",
      "\n"
     ]
    }
   ],
   "source": [
    "# usage example\n",
    "artist_name = \"Snoop Dogg\"\n",
    "api_key = \"e943f5221ef3d91e9eecf2076e110ed0a2615e29ae8919c1d73ad6b24b033534\"\n",
    "\n",
    "events = get_events_for_artist(artist_name, api_key)\n",
    "\n",
    "for event in events:\n",
    "    for key, value in event.items():\n",
    "        print(f\"{key}: {value}\")\n",
    "    print(\"\\n\\n\")"
   ]
  }
 ],
 "metadata": {
  "kernelspec": {
   "display_name": "Python 3.10 (Data)",
   "language": "python",
   "name": "data-science"
  },
  "language_info": {
   "codemirror_mode": {
    "name": "ipython",
    "version": 3
   },
   "file_extension": ".py",
   "mimetype": "text/x-python",
   "name": "python",
   "nbconvert_exporter": "python",
   "pygments_lexer": "ipython3",
   "version": "3.10.13"
  }
 },
 "nbformat": 4,
 "nbformat_minor": 5
}
